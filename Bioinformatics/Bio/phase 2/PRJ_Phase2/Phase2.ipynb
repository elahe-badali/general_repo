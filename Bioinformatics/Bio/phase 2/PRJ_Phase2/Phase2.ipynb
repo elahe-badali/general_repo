{
 "cells": [
  {
   "cell_type": "markdown",
   "metadata": {
    "colab_type": "text",
    "id": "0ypvrU63BywC"
   },
   "source": [
    "\n",
    "### Final Project: Phase 2\n",
    "Algorithms For Bioinformatics\n",
    "\n"
   ]
  },
  {
   "cell_type": "markdown",
   "metadata": {
    "colab_type": "text",
    "id": "HXEwkcR3Bcgd"
   },
   "source": [
    "**please change directory to folder that contain this code file and mitocondriy dataset folder.**\n",
    "\n",
    "\n"
   ]
  },
  {
   "cell_type": "markdown",
   "metadata": {
    "colab_type": "text",
    "id": "1VoyZejfCwbI"
   },
   "source": [
    "i code in colab. so i mount my drive. "
   ]
  },
  {
   "cell_type": "code",
   "execution_count": 1,
   "metadata": {
    "colab": {
     "base_uri": "https://localhost:8080/",
     "height": 35
    },
    "colab_type": "code",
    "id": "RiKwGthEu4CN",
    "outputId": "daa6422a-8536-4e0a-f0d2-044168e20933"
   },
   "outputs": [
    {
     "name": "stdout",
     "output_type": "stream",
     "text": [
      "/content/drive/My Drive/phase2Algo\n"
     ]
    }
   ],
   "source": [
    "%cd \"/content/drive/My Drive/phase2Algo\""
   ]
  },
  {
   "cell_type": "code",
   "execution_count": 2,
   "metadata": {
    "colab": {},
    "colab_type": "code",
    "id": "fTDyCHLKmraQ"
   },
   "outputs": [],
   "source": [
    "mkdir 'blocks' #this folder create in the same path and contain blocks files"
   ]
  },
  {
   "cell_type": "code",
   "execution_count": 3,
   "metadata": {
    "colab": {
     "base_uri": "https://localhost:8080/",
     "height": 147
    },
    "colab_type": "code",
    "id": "xzlXP5HX0JPc",
    "outputId": "11b56c9f-e98a-4906-a4f4-7c84e99e53a2"
   },
   "outputs": [
    {
     "name": "stdout",
     "output_type": "stream",
     "text": [
      "Collecting biopython\n",
      "\u001b[?25l  Downloading https://files.pythonhosted.org/packages/a8/66/134dbd5f885fc71493c61b6cf04c9ea08082da28da5ed07709b02857cbd0/biopython-1.77-cp36-cp36m-manylinux1_x86_64.whl (2.3MB)\n",
      "\u001b[K     |████████████████████████████████| 2.3MB 4.8MB/s \n",
      "\u001b[?25hRequirement already satisfied: numpy in /usr/local/lib/python3.6/dist-packages (from biopython) (1.18.5)\n",
      "Installing collected packages: biopython\n",
      "Successfully installed biopython-1.77\n"
     ]
    }
   ],
   "source": [
    "pip install biopython # for read fasta files"
   ]
  },
  {
   "cell_type": "code",
   "execution_count": 4,
   "metadata": {
    "colab": {
     "base_uri": "https://localhost:8080/",
     "height": 221
    },
    "colab_type": "code",
    "id": "_2kE8yiQlJ_Y",
    "outputId": "e4ddac6e-f2f9-4462-9bf7-b08cd64e7ae0"
   },
   "outputs": [
    {
     "name": "stdout",
     "output_type": "stream",
     "text": [
      "Collecting bitarray\n",
      "\u001b[?25l  Downloading https://files.pythonhosted.org/packages/d5/7e/d44c87d6b96491e546d3d8c68212c99f2311db9bc5a158c8fd5f21148fb7/bitarray-1.4.2.tar.gz (51kB)\n",
      "\r",
      "\u001b[K     |██████▎                         | 10kB 14.2MB/s eta 0:00:01\r",
      "\u001b[K     |████████████▋                   | 20kB 3.2MB/s eta 0:00:01\r",
      "\u001b[K     |███████████████████             | 30kB 3.6MB/s eta 0:00:01\r",
      "\u001b[K     |█████████████████████████▎      | 40kB 4.2MB/s eta 0:00:01\r",
      "\u001b[K     |███████████████████████████████▋| 51kB 3.6MB/s eta 0:00:01\r",
      "\u001b[K     |████████████████████████████████| 61kB 2.7MB/s \n",
      "\u001b[?25hBuilding wheels for collected packages: bitarray\n",
      "  Building wheel for bitarray (setup.py) ... \u001b[?25l\u001b[?25hdone\n",
      "  Created wheel for bitarray: filename=bitarray-1.4.2-cp36-cp36m-linux_x86_64.whl size=108510 sha256=180859b6f91f2d7ee2281580c88f06235a4656ffeb415a13031a9366776ec8e8\n",
      "  Stored in directory: /root/.cache/pip/wheels/21/11/f3/7c9571443475b1a364ae541cf3cc80f9ceb4f6d6dc5ba7db44\n",
      "Successfully built bitarray\n",
      "Installing collected packages: bitarray\n",
      "Successfully installed bitarray-1.4.2\n"
     ]
    }
   ],
   "source": [
    "pip install bitarray # for creating presence/absence table"
   ]
  },
  {
   "cell_type": "code",
   "execution_count": 5,
   "metadata": {
    "colab": {},
    "colab_type": "code",
    "id": "h8OYlQK6kEBS"
   },
   "outputs": [],
   "source": [
    "from Bio import SeqIO\n",
    "import os, glob\n",
    "import itertools\n",
    "import bitarray"
   ]
  },
  {
   "cell_type": "code",
   "execution_count": 6,
   "metadata": {
    "colab": {},
    "colab_type": "code",
    "id": "qbh-avrikHu9"
   },
   "outputs": [],
   "source": [
    "def read_files(folder_path): \n",
    "    ''' reading files in given path\n",
    "\n",
    "    Parameters\n",
    "    --------\n",
    "     - folder_path: path of files (type: str)\n",
    "     \n",
    "    Return\n",
    "    --------\n",
    "     - output: a dictionary that its keys are records id(genome name) and\n",
    "               values are a string(genome or block) (type:dict)\n",
    "    '''\n",
    "    \n",
    "    output = {}\n",
    "    fasta_files = glob.glob(os.path.join(folder_path, '*.fasta')) \n",
    "    for fasta_file in fasta_files:\n",
    "        for seq_record in SeqIO.parse(fasta_file, \"fasta\"):\n",
    "            output.setdefault(seq_record.id,[]).append(str(seq_record.seq))\n",
    "                 \n",
    "    return output           "
   ]
  },
  {
   "cell_type": "code",
   "execution_count": 7,
   "metadata": {
    "colab": {},
    "colab_type": "code",
    "id": "d1cxCbn0lLcq"
   },
   "outputs": [],
   "source": [
    "def split_genome(genome, nt_num, overlap = 0):\n",
    "    ''' Split genome to blocks (phase 2.1)\n",
    "\n",
    "    Parameters\n",
    "    --------\n",
    "     - genome: a genome (type: str)\n",
    "     - nt_num: number of nucleotide in a block (type: int)\n",
    "     - overlap: blocks overlap amount (type: int)\n",
    "\n",
    "    Return\n",
    "    --------\n",
    "     - blocks (type: list)\n",
    "    '''\n",
    "\n",
    "    blocks = []\n",
    "    start_index = 0\n",
    "    while start_index < len(genome):\n",
    "        block = genome[start_index : start_index + nt_num]\n",
    "        start_index = start_index + nt_num - overlap  \n",
    "        blocks.append(block)\n",
    "    return blocks"
   ]
  },
  {
   "cell_type": "code",
   "execution_count": 8,
   "metadata": {
    "colab": {},
    "colab_type": "code",
    "id": "gqFT60Vzl9S_"
   },
   "outputs": [],
   "source": [
    "def create_blocks(genomes):\n",
    "    ''' create all blocks of all given genomes\n",
    "    Parameters\n",
    "    --------\n",
    "     - genomes: all genomes (type: dict)\n",
    "     \n",
    "    Return\n",
    "    --------\n",
    "    write created blocks with specifict overlap(k) in \"blocks\" folder\n",
    "    file name format: k + number of overlap + _ + genome name + .fasta (example: k0_AF010406.1.fasta)\n",
    "    '''\n",
    "    for genome in genomes:  \n",
    "        for k in [0,3,5,7,9,11,24,32]:\n",
    "              f_out = open('blocks/k'+str(k)+\"_\"+str(str(genome)+\".fasta\"), 'w')\n",
    "              \n",
    "              blocks = split_genome(genomes[genome][0] , nt_num = 1000 , overlap = k)\n",
    "\n",
    "              f_out.write(\"; Blocks Count:\" + str(len(blocks)) +\"\\n\\n\")\n",
    "\n",
    "              block_num = 1\n",
    "              for block in blocks:\n",
    "                  f_out.write(\">k\" + str(k)+ \"_\" + str(genome)+ \"\\n\" + block + \"\\n\")\n",
    "                  block_num += 1    \n",
    "              f_out.close()"
   ]
  },
  {
   "cell_type": "code",
   "execution_count": 9,
   "metadata": {
    "colab": {},
    "colab_type": "code",
    "id": "_YJd1H8Ulbko"
   },
   "outputs": [],
   "source": [
    "def initialize_bitarray(k):\n",
    "    bit_array = bitarray.bitarray(4**k)\n",
    "    bit_array.setall(False)\n",
    "    return bit_array"
   ]
  },
  {
   "cell_type": "code",
   "execution_count": 10,
   "metadata": {
    "colab": {},
    "colab_type": "code",
    "id": "VPPJWN6epLCT"
   },
   "outputs": [],
   "source": [
    "def Count_Kmers(blocks , k):\n",
    "    ''' Count kmers of blocks of given genome (phase 2.2)\n",
    "    Parameters\n",
    "    --------\n",
    "     - blocks: all blocks given genome (type: list)\n",
    "     - k: k(type: int)\n",
    "    Return\n",
    "    --------\n",
    "     - Kmer_Count: counts of kmers in each block seprately (type: list of dics)\n",
    "     - All_kmers: all kmers in each block (type: list)\n",
    "    '''\n",
    "    Kmer_Count = []\n",
    "    All_kmers = []\n",
    "    for block in blocks:\n",
    "        kmers = []\n",
    "        for i in range(len(block) - k + 1):\n",
    "            kmer = block[i:i+k]\n",
    "            kmers.append(kmer) \n",
    "        All_kmers.append(set(kmers))\n",
    "        \n",
    "        kmer_count = {}\n",
    "        for kmer in kmers:\n",
    "            kmer_count[kmer] = kmers.count(kmer)\n",
    "        Kmer_Count.append(kmer_count)\n",
    "    return All_kmers , Kmer_Count"
   ]
  },
  {
   "cell_type": "code",
   "execution_count": 11,
   "metadata": {
    "colab": {},
    "colab_type": "code",
    "id": "JzOQyNy0pmbG"
   },
   "outputs": [],
   "source": [
    "def Filter(k, All_kmers):\n",
    "    ''' Filter kmers by turn the index of presence kmers in related bit-array to 1 (phase 2.3)\n",
    "    Parameters\n",
    "    --------\n",
    "     - k: kmers length (type: int)\n",
    "     - All_kmers: kmers of blocks (type: list)\n",
    "    Return\n",
    "    --------\n",
    "     - Presence_Absence: turn the index of present kmers in related bit-array (type: list of arrays)\n",
    "    '''\n",
    "    bm = { 'A' : 0, 'C' : 1, 'T' : 2, 'G' : 3 }\n",
    "    Presence_Absence = []\n",
    "  \n",
    "    for block_kmers in All_kmers:\n",
    "        ba = initialize_bitarray(k)\n",
    "        for kmer in block_kmers:\n",
    "            idx = 0\n",
    "            for j in range(k-1, -1, -1):\n",
    "                if kmer[j] not in ['A' , 'C', 'T', 'G']:\n",
    "                    kmer = kmer.replace(kmer[j],'A')\n",
    "                idx += 4**(k-j-1) * bm[kmer[j]]\n",
    "            ba[idx] = True\n",
    "        Presence_Absence.append(ba)\n",
    "    return Presence_Absence"
   ]
  },
  {
   "cell_type": "code",
   "execution_count": 12,
   "metadata": {
    "colab": {},
    "colab_type": "code",
    "id": "yYD3uDXMoQjC"
   },
   "outputs": [],
   "source": [
    "def Kmer_Count_and_Filter(All_blocks):\n",
    "    ''' count kmers of each block of each genome and also filter them\n",
    "    Parameters\n",
    "    --------\n",
    "     - All_blocks: all blocks of genome (type: list)\n",
    "    Return\n",
    "    --------\n",
    "     - All_Counts: counts of kmers of all blocks(type: dict)\n",
    "     - All_Presence_Absence: all presence/absence arrays (type: dict of lists)\n",
    "    '''\n",
    "    All_Counts = {}\n",
    "    All_Presence_Absence = {}\n",
    "\n",
    "    for genome in All_blocks:\n",
    "          k = int(genome[genome.index('k')+1:genome.index('_')]) # be dast avardane k az file name\n",
    "          if k != 0:\n",
    "              all_kmers , kmer_counts = Count_Kmers(All_blocks[genome] , k)\n",
    "              if k!= 24 and k!= 32: \n",
    "                 presence_absence_this_genome = Filter(k , all_kmers)\n",
    "                 All_Presence_Absence[genome] = presence_absence_this_genome\n",
    "              All_Counts[genome] = kmer_counts \n",
    "    return All_Counts ,All_Presence_Absence"
   ]
  },
  {
   "cell_type": "code",
   "execution_count": 13,
   "metadata": {
    "colab": {},
    "colab_type": "code",
    "id": "04TMS_kulfQi"
   },
   "outputs": [],
   "source": [
    "def phase2_main():\n",
    "    print(\"-> Read Genomes ...\")\n",
    "    genomes = read_files(folder_path = 'data mitochondrial genome')\n",
    "    print(\"Genomes Readed!\")\n",
    "    print(\"-> Split Genomes to Blocks ...\")\n",
    "    create_blocks(genomes)\n",
    "    print(\"Blocks Created!\")\n",
    "    All_blocks = read_files(folder_path = 'blocks')\n",
    "    print(\"-> Start Count and Filter kmers ...\")\n",
    "    All_Counts ,All_Presence_Absence = Kmer_Count_and_Filter(All_blocks)\n",
    "    print(\"Kmer Count and Filtering: Done!\")\n",
    "    return All_Counts ,All_Presence_Absence"
   ]
  },
  {
   "cell_type": "code",
   "execution_count": 14,
   "metadata": {
    "colab": {
     "base_uri": "https://localhost:8080/",
     "height": 127
    },
    "colab_type": "code",
    "id": "dtH116tKlmOB",
    "outputId": "0411bac0-a632-4b5d-d93b-2d12ebcf596e"
   },
   "outputs": [
    {
     "name": "stdout",
     "output_type": "stream",
     "text": [
      "-> Read Genomes ...\n",
      "Genomes Readed!\n",
      "-> Split Genomes to Blocks ...\n",
      "Blocks Created!\n",
      "-> Start Count and Filter kmers ...\n",
      "Kmer Count and Filtering: Done!\n"
     ]
    }
   ],
   "source": [
    "All_Counts ,All_Presence_Absence = phase2_main()"
   ]
  },
  {
   "cell_type": "code",
   "execution_count": null,
   "metadata": {
    "colab": {},
    "colab_type": "code",
    "id": "HeQLsJzPj5QC"
   },
   "outputs": [],
   "source": []
  }
 ],
 "metadata": {
  "colab": {
   "collapsed_sections": [],
   "name": "Phase2.ipynb",
   "provenance": []
  },
  "kernelspec": {
   "display_name": "Python 3",
   "language": "python",
   "name": "python3"
  },
  "language_info": {
   "codemirror_mode": {
    "name": "ipython",
    "version": 3
   },
   "file_extension": ".py",
   "mimetype": "text/x-python",
   "name": "python",
   "nbconvert_exporter": "python",
   "pygments_lexer": "ipython3",
   "version": "3.7.3"
  }
 },
 "nbformat": 4,
 "nbformat_minor": 1
}
