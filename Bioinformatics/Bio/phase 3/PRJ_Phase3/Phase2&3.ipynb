{
  "nbformat": 4,
  "nbformat_minor": 0,
  "metadata": {
    "colab": {
      "name": "Phase2&3.ipynb",
      "provenance": [],
      "collapsed_sections": []
    },
    "kernelspec": {
      "name": "python3",
      "display_name": "Python 3"
    }
  },
  "cells": [
    {
      "cell_type": "markdown",
      "metadata": {
        "id": "0ypvrU63BywC",
        "colab_type": "text"
      },
      "source": [
        "\n",
        "### Final Project: Phase 2\n",
        "Algorithms For Bioinformatics\n",
        "\n"
      ]
    },
    {
      "cell_type": "markdown",
      "metadata": {
        "id": "HXEwkcR3Bcgd",
        "colab_type": "text"
      },
      "source": [
        "**please change directory to folder that contain this code file and mitocondriy dataset folder.**\n",
        "\n",
        "\n"
      ]
    },
    {
      "cell_type": "markdown",
      "metadata": {
        "id": "1VoyZejfCwbI",
        "colab_type": "text"
      },
      "source": [
        "i code in colab. so i mount my drive. "
      ]
    },
    {
      "cell_type": "code",
      "metadata": {
        "id": "RiKwGthEu4CN",
        "colab_type": "code",
        "colab": {
          "base_uri": "https://localhost:8080/",
          "height": 35
        },
        "outputId": "0f869383-d7a1-47ec-bae9-d0bc557f0a4d"
      },
      "source": [
        "%cd \"/content/drive/My Drive/phase2Algo\""
      ],
      "execution_count": 1,
      "outputs": [
        {
          "output_type": "stream",
          "text": [
            "/content/drive/My Drive/phase2Algo\n"
          ],
          "name": "stdout"
        }
      ]
    },
    {
      "cell_type": "code",
      "metadata": {
        "id": "fTDyCHLKmraQ",
        "colab_type": "code",
        "colab": {}
      },
      "source": [
        "mkdir 'blocks' #this folder create in the same path and contain blocks files"
      ],
      "execution_count": 2,
      "outputs": []
    },
    {
      "cell_type": "code",
      "metadata": {
        "id": "xzlXP5HX0JPc",
        "colab_type": "code",
        "colab": {
          "base_uri": "https://localhost:8080/",
          "height": 54
        },
        "outputId": "d8256059-74f0-4e05-f504-57f36f833ce1"
      },
      "source": [
        "pip install biopython # for read fasta files"
      ],
      "execution_count": 3,
      "outputs": [
        {
          "output_type": "stream",
          "text": [
            "Requirement already satisfied: biopython in /usr/local/lib/python3.6/dist-packages (1.77)\n",
            "Requirement already satisfied: numpy in /usr/local/lib/python3.6/dist-packages (from biopython) (1.18.5)\n"
          ],
          "name": "stdout"
        }
      ]
    },
    {
      "cell_type": "code",
      "metadata": {
        "id": "_2kE8yiQlJ_Y",
        "colab_type": "code",
        "colab": {
          "base_uri": "https://localhost:8080/",
          "height": 35
        },
        "outputId": "c30b4ef5-4911-433b-f780-98416f722c24"
      },
      "source": [
        "pip install bitarray # for creating presence/absence table"
      ],
      "execution_count": 4,
      "outputs": [
        {
          "output_type": "stream",
          "text": [
            "Requirement already satisfied: bitarray in /usr/local/lib/python3.6/dist-packages (1.5.1)\n"
          ],
          "name": "stdout"
        }
      ]
    },
    {
      "cell_type": "code",
      "metadata": {
        "id": "h8OYlQK6kEBS",
        "colab_type": "code",
        "colab": {}
      },
      "source": [
        "from Bio import SeqIO\n",
        "import os, glob\n",
        "import itertools\n",
        "import bitarray"
      ],
      "execution_count": 5,
      "outputs": []
    },
    {
      "cell_type": "code",
      "metadata": {
        "id": "qbh-avrikHu9",
        "colab_type": "code",
        "colab": {}
      },
      "source": [
        "def read_files(folder_path): \n",
        "    ''' reading files in given path\n",
        "\n",
        "    Parameters\n",
        "    --------\n",
        "     - folder_path: path of files (type: str)\n",
        "     \n",
        "    Return\n",
        "    --------\n",
        "     - output: a dictionary that its keys are records id(genome name) and\n",
        "               values are a string(genome or block) (type:dict)\n",
        "    '''\n",
        "    \n",
        "    output = {}\n",
        "    fasta_files = glob.glob(os.path.join(folder_path, '*.fasta')) \n",
        "    for fasta_file in fasta_files:\n",
        "        for seq_record in SeqIO.parse(fasta_file, \"fasta\"):\n",
        "            output.setdefault(seq_record.id,[]).append(str(seq_record.seq))\n",
        "                 \n",
        "    return output           "
      ],
      "execution_count": 6,
      "outputs": []
    },
    {
      "cell_type": "code",
      "metadata": {
        "id": "d1cxCbn0lLcq",
        "colab_type": "code",
        "colab": {}
      },
      "source": [
        "def split_genome(genome, nt_num, overlap = 0):\n",
        "    ''' Split genome to blocks (phase 2.1)\n",
        "\n",
        "    Parameters\n",
        "    --------\n",
        "     - genome: a genome (type: str)\n",
        "     - nt_num: number of nucleotide in a block (type: int)\n",
        "     - overlap: blocks overlap amount (type: int)\n",
        "\n",
        "    Return\n",
        "    --------\n",
        "     - blocks (type: list)\n",
        "    '''\n",
        "\n",
        "    blocks = []\n",
        "    start_index = 0\n",
        "    while start_index < len(genome):\n",
        "        block = genome[start_index : start_index + nt_num]\n",
        "        start_index = start_index + nt_num - overlap  \n",
        "        blocks.append(block)\n",
        "    return blocks"
      ],
      "execution_count": 7,
      "outputs": []
    },
    {
      "cell_type": "code",
      "metadata": {
        "id": "gqFT60Vzl9S_",
        "colab_type": "code",
        "colab": {}
      },
      "source": [
        "def create_blocks(genomes):\n",
        "    ''' create all blocks of all given genomes\n",
        "    Parameters\n",
        "    --------\n",
        "     - genomes: all genomes (type: dict)\n",
        "     \n",
        "    Return\n",
        "    --------\n",
        "    write created blocks with specifict overlap(k) in \"blocks\" folder\n",
        "    file name format: k + number of overlap + _ + genome name + .fasta (example: k0_AF010406.1.fasta)\n",
        "    '''\n",
        "    for genome in genomes:  \n",
        "        for k in [0,3,5,7,9,11,24,32]:\n",
        "              f_out = open('blocks/k'+str(k)+\"_\"+str(str(genome)+\".fasta\"), 'w')\n",
        "              \n",
        "              blocks = split_genome(genomes[genome][0] , nt_num = 1000 , overlap = k)\n",
        "\n",
        "              f_out.write(\"; Blocks Count:\" + str(len(blocks)) +\"\\n\\n\")\n",
        "\n",
        "              block_num = 1\n",
        "              for block in blocks:\n",
        "                  f_out.write(\">k\" + str(k)+ \"_\" + str(genome)+ \"\\n\" + block + \"\\n\")\n",
        "                  block_num += 1    \n",
        "              f_out.close()"
      ],
      "execution_count": 8,
      "outputs": []
    },
    {
      "cell_type": "code",
      "metadata": {
        "id": "_YJd1H8Ulbko",
        "colab_type": "code",
        "colab": {}
      },
      "source": [
        "def initialize_bitarray(k):\n",
        "    bit_array = bitarray.bitarray(4**k)\n",
        "    bit_array.setall(False)\n",
        "    return bit_array"
      ],
      "execution_count": 9,
      "outputs": []
    },
    {
      "cell_type": "code",
      "metadata": {
        "colab_type": "code",
        "id": "VPPJWN6epLCT",
        "colab": {}
      },
      "source": [
        "def Count_Kmers(blocks , k):\n",
        "    ''' Count kmers of blocks of given genome (phase 2.2)\n",
        "    Parameters\n",
        "    --------\n",
        "     - blocks: all blocks given genome (type: list)\n",
        "     - k: k(type: int)\n",
        "    Return\n",
        "    --------\n",
        "     - Kmer_Count: counts of kmers in each block seprately (type: list of dics)\n",
        "     - All_kmers: all kmers in each block (type: list)\n",
        "    '''\n",
        "    Kmer_Count = []\n",
        "    All_kmers = []\n",
        "    for block in blocks:\n",
        "        kmers = []\n",
        "        for i in range(len(block) - k + 1):\n",
        "            kmer = block[i:i+k]\n",
        "            kmers.append(kmer) \n",
        "        All_kmers.append(set(kmers))\n",
        "        \n",
        "        kmer_count = {}\n",
        "        for kmer in kmers:\n",
        "            kmer_count[kmer] = kmers.count(kmer)\n",
        "        Kmer_Count.append(kmer_count)\n",
        "    return All_kmers , Kmer_Count"
      ],
      "execution_count": 10,
      "outputs": []
    },
    {
      "cell_type": "code",
      "metadata": {
        "id": "JzOQyNy0pmbG",
        "colab_type": "code",
        "colab": {}
      },
      "source": [
        "def Filter(k, All_kmers):\n",
        "    ''' Filter kmers by turn the index of presence kmers in related bit-array to 1 (phase 2.3)\n",
        "    Parameters\n",
        "    --------\n",
        "     - k: kmers length (type: int)\n",
        "     - All_kmers: kmers of blocks (type: list)\n",
        "    Return\n",
        "    --------\n",
        "     - Presence_Absence: turn the index of present kmers in related bit-array (type: list of arrays)\n",
        "    '''\n",
        "    bm = { 'A' : 0, 'C' : 1, 'T' : 2, 'G' : 3 }\n",
        "    Presence_Absence = []\n",
        "  \n",
        "    for block_kmers in All_kmers:\n",
        "        ba = initialize_bitarray(k)\n",
        "        for kmer in block_kmers:\n",
        "            idx = 0\n",
        "            for j in range(k-1, -1, -1):\n",
        "                if kmer[j] not in ['A' , 'C', 'T', 'G']:\n",
        "                    kmer = kmer.replace(kmer[j],'A')\n",
        "                idx += 4**(k-j-1) * bm[kmer[j]]\n",
        "            ba[idx] = True\n",
        "        Presence_Absence.append(ba)\n",
        "    return Presence_Absence"
      ],
      "execution_count": 11,
      "outputs": []
    },
    {
      "cell_type": "code",
      "metadata": {
        "id": "yYD3uDXMoQjC",
        "colab_type": "code",
        "colab": {}
      },
      "source": [
        "def Kmer_Count_and_Filter(All_blocks):\n",
        "    ''' count kmers of each block of each genome and also filter them\n",
        "    Parameters\n",
        "    --------\n",
        "     - All_blocks: all blocks of genome (type: list)\n",
        "    Return\n",
        "    --------\n",
        "     - All_Counts: counts of kmers of all blocks(type: dict)\n",
        "     - All_Presence_Absence: all presence/absence arrays (type: dict of lists)\n",
        "    '''\n",
        "    All_Counts = {}\n",
        "    All_Presence_Absence = {}\n",
        "\n",
        "    for genome in All_blocks:\n",
        "          k = int(genome[genome.index('k')+1:genome.index('_')]) # be dast avardane k az file name\n",
        "          if k != 0:\n",
        "              all_kmers , kmer_counts = Count_Kmers(All_blocks[genome] , k)\n",
        "              if k!= 24 and k!= 32: \n",
        "                 presence_absence_this_genome = Filter(k , all_kmers)\n",
        "                 All_Presence_Absence[genome] = presence_absence_this_genome\n",
        "              All_Counts[genome] = kmer_counts \n",
        "    return All_Counts ,All_Presence_Absence"
      ],
      "execution_count": 12,
      "outputs": []
    },
    {
      "cell_type": "code",
      "metadata": {
        "id": "04TMS_kulfQi",
        "colab_type": "code",
        "colab": {}
      },
      "source": [
        "def phase2_main():\n",
        "    print(\"-> Read Genomes ...\")\n",
        "    genomes = read_files(folder_path = 'data mitochondrial genome')\n",
        "    print(\"Genomes Readed!\")\n",
        "    print(\"-> Split Genomes to Blocks ...\")\n",
        "    create_blocks(genomes)\n",
        "    print(\"Blocks Created!\")\n",
        "    All_blocks = read_files(folder_path = 'blocks')\n",
        "    print(\"-> Start Count and Filter kmers ...\")\n",
        "    All_Counts ,All_Presence_Absence = Kmer_Count_and_Filter(All_blocks)\n",
        "    print(\"Kmer Count and Filtering: Done!\")\n",
        "    return All_Counts ,All_Presence_Absence"
      ],
      "execution_count": 13,
      "outputs": []
    },
    {
      "cell_type": "code",
      "metadata": {
        "id": "dtH116tKlmOB",
        "colab_type": "code",
        "colab": {
          "base_uri": "https://localhost:8080/",
          "height": 127
        },
        "outputId": "eab4831c-67ce-4b75-d0b2-a99dd90f12f0"
      },
      "source": [
        "All_Counts ,All_Presence_Absence = phase2_main()"
      ],
      "execution_count": 14,
      "outputs": [
        {
          "output_type": "stream",
          "text": [
            "-> Read Genomes ...\n",
            "Genomes Readed!\n",
            "-> Split Genomes to Blocks ...\n",
            "Blocks Created!\n",
            "-> Start Count and Filter kmers ...\n",
            "Kmer Count and Filtering: Done!\n"
          ],
          "name": "stdout"
        }
      ]
    },
    {
      "cell_type": "markdown",
      "metadata": {
        "id": "ww4-qa4sW5nV",
        "colab_type": "text"
      },
      "source": [
        "##Phase 3"
      ]
    },
    {
      "cell_type": "code",
      "metadata": {
        "id": "sRYkUPKEZJvd",
        "colab_type": "code",
        "colab": {}
      },
      "source": [
        "mkdir 'compration' "
      ],
      "execution_count": 15,
      "outputs": []
    },
    {
      "cell_type": "code",
      "metadata": {
        "id": "6pdii2U6rzAK",
        "colab_type": "code",
        "colab": {
          "base_uri": "https://localhost:8080/",
          "height": 35
        },
        "outputId": "8932a323-336d-4d3a-da04-da052d700e34"
      },
      "source": [
        "%cd 'compration'"
      ],
      "execution_count": 16,
      "outputs": [
        {
          "output_type": "stream",
          "text": [
            "/content/drive/My Drive/phase2Algo/compration\n"
          ],
          "name": "stdout"
        }
      ]
    },
    {
      "cell_type": "code",
      "metadata": {
        "id": "_ajZG6mRaggY",
        "colab_type": "code",
        "colab": {}
      },
      "source": [
        "import numpy as np\n",
        "def calculate_metric(All_Counts ,All_Presence_Absence ):\n",
        "    k = 1\n",
        "    cmp_list = []\n",
        "    similarity_dict = {}\n",
        "    for genome1 in All_Counts:\n",
        "        k1 = int(genome1[genome1.index('k')+1:genome1.index('_')])\n",
        "        for genome2 in All_Counts:\n",
        "            k2 = int(genome2[genome2.index('k')+1:genome2.index('_')])\n",
        "            K = k1 * k2\n",
        "            if (k1 == k2) and (K < 150) and (genome1 != genome2) and ((genome1 , genome2) and (genome2 , genome1) not in cmp_list):\n",
        "                \n",
        "                cmp_list.append((genome1 , genome2))      \n",
        "                cmp_list.append((genome2 , genome1))      \n",
        "                              \n",
        "                k+=1\n",
        "                \n",
        "                bit_blocks1 = All_Presence_Absence[genome1]\n",
        "                bit_blocks2 = All_Presence_Absence[genome2]\n",
        "                \n",
        "                w, h = len(bit_blocks1), len(bit_blocks2)\n",
        "                dotplot = np.array([[0 for x in range(h)] for y in range(w)] )\n",
        "                for i in range(w):\n",
        "                    for j in range(h):\n",
        "                          dotplot[i][j] = min(bit_blocks1[i].count() , bit_blocks2[j].count())\n",
        "\n",
        "                this_two_genomes = str(genome1+str('&')+genome2)+'.txt'\n",
        "                similarity_dict.setdefault(k1 , []).append( [genome1 , genome2 , np.sum(dotplot)])\n",
        "                similarity_dict.setdefault(k1 , []).append( [genome2 , genome1 , np.sum(dotplot)])\n",
        "                \n",
        "                np.savetxt(this_two_genomes , dotplot.astype(int),fmt=\"%i\")\n",
        "\n",
        "    return similarity_dict"
      ],
      "execution_count": 17,
      "outputs": []
    },
    {
      "cell_type": "code",
      "metadata": {
        "id": "-ciQDfXurkE9",
        "colab_type": "code",
        "colab": {}
      },
      "source": [
        "similarity_dict = calculate_metric(All_Counts ,All_Presence_Absence )"
      ],
      "execution_count": 18,
      "outputs": []
    },
    {
      "cell_type": "code",
      "metadata": {
        "id": "gBkRaj7boN1i",
        "colab_type": "code",
        "colab": {
          "base_uri": "https://localhost:8080/",
          "height": 35
        },
        "outputId": "a35a98a7-5a63-4a34-e808-e760f4e969c3"
      },
      "source": [
        "%cd .."
      ],
      "execution_count": 19,
      "outputs": [
        {
          "output_type": "stream",
          "text": [
            "/content/drive/My Drive/phase2Algo\n"
          ],
          "name": "stdout"
        }
      ]
    },
    {
      "cell_type": "code",
      "metadata": {
        "id": "xSL-SpVmxC3A",
        "colab_type": "code",
        "colab": {}
      },
      "source": [
        "mkdir 'distances' "
      ],
      "execution_count": 20,
      "outputs": []
    },
    {
      "cell_type": "code",
      "metadata": {
        "id": "q92lSI78xFIj",
        "colab_type": "code",
        "colab": {
          "base_uri": "https://localhost:8080/",
          "height": 35
        },
        "outputId": "6fb31997-049c-4628-9554-b06419e8e5df"
      },
      "source": [
        "%cd 'distances' "
      ],
      "execution_count": 21,
      "outputs": [
        {
          "output_type": "stream",
          "text": [
            "/content/drive/My Drive/phase2Algo/distances\n"
          ],
          "name": "stdout"
        }
      ]
    },
    {
      "cell_type": "code",
      "metadata": {
        "id": "C9F_TENXipnl",
        "colab_type": "code",
        "colab": {}
      },
      "source": [
        "def dist_matrix(similarity_dict):\n",
        "    import pandas as pd\n",
        "    df = pd.DataFrame(similarity_dict)\n",
        "    df = df.pivot(index=0, columns=1, values=2).fillna(0)\n",
        "    names = df.index\n",
        "    df = np.array(df)\n",
        "    df = np.max(df) - df \n",
        "    np.fill_diagonal(df,0)\n",
        "    return np.tril(df) , names\n"
      ],
      "execution_count": 22,
      "outputs": []
    },
    {
      "cell_type": "code",
      "metadata": {
        "id": "0pPDx0PHsQqq",
        "colab_type": "code",
        "colab": {}
      },
      "source": [
        "def Create_Distance_Matrixs(similarity_dict):\n",
        "  for k in similarity_dict:\n",
        "      distance_matrix , names = dist_matrix(similarity_dict[k])\n",
        "      print(\"distance matrix of k =\" + str(k) +\" created.\")\n",
        "      f_out = open(str(\"k\"+str(k)+\"_names.txt\") , 'w')\n",
        "      for name in names:\n",
        "        f_out.write('#'+name+'\\n')\n",
        "      f_out.close()\n",
        "      np.savetxt(str(\"k\"+str(k)+\".txt\") ,distance_matrix.astype(int),fmt=\"%i\")"
      ],
      "execution_count": 25,
      "outputs": []
    },
    {
      "cell_type": "code",
      "metadata": {
        "id": "nJ_T7050nY8b",
        "colab_type": "code",
        "colab": {
          "base_uri": "https://localhost:8080/",
          "height": 109
        },
        "outputId": "80da89fc-c84e-41e9-e9c2-282c3bb519fb"
      },
      "source": [
        "Create_Distance_Matrixs(similarity_dict)"
      ],
      "execution_count": 26,
      "outputs": [
        {
          "output_type": "stream",
          "text": [
            "distance matrix of k =3created.\n",
            "distance matrix of k =5created.\n",
            "distance matrix of k =7created.\n",
            "distance matrix of k =9created.\n",
            "distance matrix of k =11created.\n"
          ],
          "name": "stdout"
        }
      ]
    }
  ]
}