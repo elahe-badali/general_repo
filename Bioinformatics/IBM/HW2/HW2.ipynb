{
 "cells": [
  {
   "cell_type": "code",
   "execution_count": 1,
   "metadata": {
    "colab": {
     "base_uri": "https://localhost:8080/"
    },
    "id": "eQv3oojopra0",
    "outputId": "44cb79ed-2b12-42f2-a476-55a88d043bdc"
   },
   "outputs": [
    {
     "name": "stdout",
     "output_type": "stream",
     "text": [
      "Drive already mounted at /content/drive; to attempt to forcibly remount, call drive.mount(\"/content/drive\", force_remount=True).\n"
     ]
    }
   ],
   "source": [
    "from google.colab import drive\n",
    "drive.mount('/content/drive')"
   ]
  },
  {
   "cell_type": "code",
   "execution_count": 3,
   "metadata": {
    "id": "tAb77yZ9fzMG"
   },
   "outputs": [],
   "source": [
    "!pip install pydicom -q\n",
    "!pip install monai -q\n",
    "!pip install medcam -q"
   ]
  },
  {
   "cell_type": "code",
   "execution_count": 4,
   "metadata": {
    "colab": {
     "base_uri": "https://localhost:8080/"
    },
    "id": "pafL7Li0jyXW",
    "outputId": "cada0b3a-9168-450a-a245-813a6ecb8af4"
   },
   "outputs": [
    {
     "name": "stdout",
     "output_type": "stream",
     "text": [
      "cuda:0\n"
     ]
    }
   ],
   "source": [
    "################################## IMPORTS\n",
    "\n",
    "# Others\n",
    "import os\n",
    "import glob\n",
    "import pydicom\n",
    "import skimage\n",
    "import pandas as pd\n",
    "import numpy as np\n",
    "from medcam import medcam\n",
    "from scipy import ndimage\n",
    "import matplotlib.pyplot as plt\n",
    "from sklearn.model_selection import KFold\n",
    "from sklearn.model_selection import train_test_split\n",
    "from sklearn.metrics import recall_score,precision_score,f1_score, classification_report\n",
    "from monai.transforms import Compose, LoadPNG, AddChannel, ScaleIntensity, ToTensor, RandRotate, RandFlip, RandZoom , Resize , resize_center\n",
    "\n",
    "# Torch\n",
    "import torch\n",
    "import torchvision\n",
    "import torch.nn as nn\n",
    "import torch.nn.functional as F\n",
    "from tqdm.auto import trange, tqdm\n",
    "from torchvision import transforms\n",
    "from skimage.transform import resize\n",
    "from torch.utils.data import Dataset, DataLoader\n",
    "\n",
    "################################## Determine device\n",
    "device = torch.device('cuda:0' if torch.cuda.is_available() else 'cpu')\n",
    "torch.cuda.empty_cache()\n",
    "print(device)"
   ]
  },
  {
   "cell_type": "code",
   "execution_count": 5,
   "metadata": {
    "id": "HzgSAznApYdb"
   },
   "outputs": [],
   "source": [
    "################################## read_data\n",
    "def read_data(path):\n",
    "    All_DCM_files = dict()\n",
    "    All_DCM_imgs = dict()\n",
    "    IMG_PX_SIZE = 128\n",
    "\n",
    "    for filename in tqdm(glob.iglob(path + '**/*.dcm' , recursive=True) , desc = \"Reading\" , ):\n",
    "        patient_id = filename.split('/')[2]\n",
    "        DCM_file = pydicom.dcmread(filename)\n",
    "        #transfered_image = Transform(DCM_file.pixel_array)\n",
    "        image = skimage.img_as_float64(DCM_file.pixel_array)\n",
    "        image = resize(image, (IMG_PX_SIZE, IMG_PX_SIZE), anti_aliasing=True) #resize\n",
    "        All_DCM_imgs.setdefault(patient_id , []).append(image)\n",
    "    return  All_DCM_imgs\n",
    " \n",
    "################################## clean_table\n",
    "\n",
    "def clean_table(path):\n",
    "    table = pd.read_csv(path)\n",
    "    table.index = table['Patient Identifier']\n",
    "    table = table.drop(columns = ['Patient Identifier' , 'TNM Pathology' , 'Survival Time' , 'Convexity' ,  'Entropy Ratio Score'])\n",
    "    idx = []\n",
    "    for element in table.index:\n",
    "        new_idx = 'R_' + element.split('_')[1]\n",
    "        idx.append(new_idx)\n",
    "    table = table.replace('1 (ALIVE)' , 1)\n",
    "    table = table.replace('0 (DEAD)' , 0)\n",
    "    table.index = idx\n",
    "    dic = table.to_dict()\n",
    "    my_dic = dic['Vital Status']\n",
    "    return my_dic\n",
    "\n"
   ]
  },
  {
   "cell_type": "code",
   "execution_count": 6,
   "metadata": {
    "colab": {
     "base_uri": "https://localhost:8080/",
     "height": 67,
     "referenced_widgets": [
      "f123632855224e7695f6b9cecd4cba98",
      "a6d1c7390ee94871acbb7c4a15563c16",
      "0eb8545a92f34477b2c4517b8fbce54f",
      "a55b421648564df0880f5d0ddc7df74f",
      "4a00b5c5b6bc4d3bb4d14084728bdb0c",
      "bb9829636fa5451da52600f6f559f875",
      "51f4c24fd82f4fb9a94db95cac97488a",
      "918871974de14b3995499367da1b94bc"
     ]
    },
    "id": "6jAcRcnlQ84b",
    "outputId": "28e70a65-7589-41f9-95bc-037d92cb7bcb"
   },
   "outputs": [
    {
     "data": {
      "application/vnd.jupyter.widget-view+json": {
       "model_id": "f123632855224e7695f6b9cecd4cba98",
       "version_major": 2,
       "version_minor": 0
      },
      "text/plain": [
       "HBox(children=(FloatProgress(value=1.0, bar_style='info', description='Reading', max=1.0, style=ProgressStyle(…"
      ]
     },
     "metadata": {
      "tags": []
     },
     "output_type": "display_data"
    },
    {
     "name": "stdout",
     "output_type": "stream",
     "text": [
      "\n"
     ]
    }
   ],
   "source": [
    "dataset = read_data('CT_Scan/dataset/')\n",
    "table = clean_table('Table_D.csv')"
   ]
  },
  {
   "cell_type": "code",
   "execution_count": 7,
   "metadata": {
    "id": "7Zx1hrI9eJmW"
   },
   "outputs": [],
   "source": [
    "################################## creat_dataset\n",
    "def preprocess(All_DCM_imgs , table):\n",
    "    dataset = []\n",
    "    for patient_id in All_DCM_imgs:\n",
    "        label = table[patient_id]\n",
    "        images = All_DCM_imgs[patient_id]\n",
    "        mid = len(images)//2\n",
    "        images = images[mid - 10 : mid+10 ]         \n",
    "        images = np.array(images)\n",
    "        dataset.append((images , label))\n",
    "    return np.array(dataset)"
   ]
  },
  {
   "cell_type": "code",
   "execution_count": 8,
   "metadata": {
    "id": "VQl_9lfveJpV"
   },
   "outputs": [],
   "source": [
    "dataset = preprocess(dataset , table)"
   ]
  },
  {
   "cell_type": "code",
   "execution_count": 9,
   "metadata": {
    "id": "TWWRh0lVeJvR"
   },
   "outputs": [],
   "source": [
    "################################## augmentation\n",
    "\n",
    "train_transforms = Compose([ \n",
    "    AddChannel(),          \n",
    "    ScaleIntensity(),\n",
    "    RandRotate(range_x=15, prob=0.5, keep_size=True),\n",
    "    RandFlip(spatial_axis=0, prob=0.5),\n",
    "    RandZoom(min_zoom=0.9, max_zoom=1.1, prob=0.5, keep_size=True),\n",
    "    ToTensor()\n",
    "])\n",
    "\n",
    "def augmentation(dataset , transform):\n",
    "\n",
    "    all = []\n",
    "    print(type(dataset))\n",
    "    for element in dataset:\n",
    "        image = element[0]\n",
    "        label = element[1]\n",
    "        image = np.array(image)\n",
    "        image2 = torch.Tensor(transform(image))\n",
    "        if label == 0:\n",
    "            image3 = torch.Tensor(transform(image))\n",
    "            all.append((image3 , label))\n",
    "        image =  torch.Tensor(AddChannel()(image))\n",
    "        all.append((image , label))\n",
    "        all.append((image2 , label))\n",
    "    return all"
   ]
  },
  {
   "cell_type": "code",
   "execution_count": 10,
   "metadata": {
    "id": "vpzwDxUCeJzJ"
   },
   "outputs": [],
   "source": [
    "kfold =KFold(n_splits = 5)"
   ]
  },
  {
   "cell_type": "code",
   "execution_count": 11,
   "metadata": {
    "id": "dhBOS81TeJ7m"
   },
   "outputs": [],
   "source": [
    "#agregando scores\n",
    "class Classifier(nn.Module):\n",
    "    def __init__(self):\n",
    "        super(Classifier, self).__init__()\n",
    "        self.conv1 = nn.Conv3d(1, 16, kernel_size=2, padding=1)\n",
    "        self.bn1 = nn.BatchNorm3d(16)\n",
    "        self.relu1 = nn.ReLU()\n",
    "        self.pool1 = nn.MaxPool3d(kernel_size=2)\n",
    "\n",
    "        self.conv2 = nn.Conv3d(16, 32, kernel_size=2, padding=1)\n",
    "        self.bn2 = nn.BatchNorm3d(32)\n",
    "        self.relu2 = nn.ReLU()\n",
    "        self.pool2 = nn.MaxPool3d(kernel_size=2)\n",
    "\n",
    "        self.conv3 = nn.Conv3d(32, 64, kernel_size=2, padding=1)\n",
    "        self.bn3 = nn.BatchNorm3d(64)\n",
    "        self.relu3 = nn.ReLU()\n",
    "        self.pool3 = nn.MaxPool3d(kernel_size=2)\n",
    "\n",
    "        self.conv4 = nn.Conv3d(64, 128, kernel_size=2, padding=1)\n",
    "        self.bn4 = nn.BatchNorm3d(128)\n",
    "        self.relu4 = nn.ReLU()\n",
    "        self.pool4 = nn.MaxPool3d(kernel_size=2)   \n",
    "\n",
    "        self.fc1 = nn.Linear(16384, 1000)\n",
    "        self.fc2 = nn.Linear(1000, 2)\n",
    "        self.dropout = nn.Dropout(p=0.5)\n",
    "        self.softmax = nn.Softmax()\n",
    "        \n",
    "    def forward(self, x):\n",
    "\n",
    "        out = self.pool1(self.relu1(self.bn1(self.conv1(x))))\n",
    "        out = self.pool2(self.relu2(self.bn2(self.conv2(out))))\n",
    "        \n",
    "        out = self.pool3(self.relu3(self.bn3(self.conv3(out))))\n",
    "        out = self.pool4(self.relu4(self.bn4(self.conv4(out))))\n",
    "                \n",
    "        out = torch.flatten(out , start_dim=1)\n",
    "        #print(out.shape)\n",
    "        \n",
    "        out = self.fc1(out)\n",
    "        out = self.dropout(out)\n",
    "        out = self.fc2(out)\n",
    "\n",
    "        out = self.softmax(out) \n",
    "        \n",
    "        return out"
   ]
  },
  {
   "cell_type": "code",
   "execution_count": 31,
   "metadata": {
    "id": "c16UQYJFeKC8"
   },
   "outputs": [],
   "source": [
    "def train(epochs):\n",
    "\n",
    "    LEARNING_RATE = 5e-6\n",
    "    av_acc = 0\n",
    "    best_acc = 0\n",
    "    for fold, (train_index, test_index) in enumerate(kfold.split(dataset)):\n",
    "\n",
    "        train = torch.utils.data.Subset(dataset, train_index)\n",
    "        test = torch.utils.data.Subset(dataset, test_index)\n",
    "        \n",
    "        augmented_train = augmentation(train , train_transforms)\n",
    "\n",
    "        test_transforms =  Compose([  \n",
    "            AddChannel(),         \n",
    "            ScaleIntensity(),\n",
    "            ToTensor()\n",
    "        ])\n",
    "        testi = []\n",
    "        for t in test:\n",
    "            im = t[0]\n",
    "            l = t[1]\n",
    "            im = np.array(im)\n",
    "\n",
    "            im = torch.Tensor(test_transforms(im).float())\n",
    "            testi.append((im , l))\n",
    "\n",
    "        train_loader = torch.utils.data.DataLoader(augmented_train, batch_size=32, shuffle=True , num_workers=0 )\n",
    "        test_loader = torch.utils.data.DataLoader(testi, batch_size=32, shuffle=True , num_workers= 0)\n",
    "        \n",
    "        model = Classifier()\n",
    "        optimizer = torch.optim.Adam(model.parameters(), lr = LEARNING_RATE)\n",
    "        model = model.to(device)\n",
    "        model.train()\n",
    "         \n",
    "        print('============================ fold %d =======================================' %(fold+1))\n",
    "         \n",
    "        ##################################### train phase\n",
    "        for epoch in trange(epochs):\n",
    "            train_loss = 0\n",
    "            train_acc = 0\n",
    "            k = 1\n",
    "            for inputs , labels in train_loader:\n",
    "                # clean inputs\n",
    "                inputs = inputs.float().to(device)\n",
    "                labels = labels.to(device)\n",
    "                # learn\n",
    "                optimizer.zero_grad()\n",
    "                outputs= model(inputs)\n",
    "                loss = F.cross_entropy(outputs, labels.long())  \n",
    "                \n",
    "                loss.backward()  \n",
    "                \n",
    "                #loss.backward()  \n",
    "                optimizer.step() \n",
    "\n",
    "                # save loss\n",
    "                train_loss += loss.item()\n",
    "                # save acc\n",
    "                preds = torch.max(outputs, dim=1)[1]\n",
    "                train_acc += (preds == labels).float().sum()\n",
    "                #print()\n",
    "                #print(\"labels:\" , labels)\n",
    "                #print(\"preds:\", preds)\n",
    "            train_loss /= len(train_loader.dataset)\n",
    "            train_acc/= len(train_loader.dataset)\n",
    "            print('==>epoch %d/20 | Average loss: %.6f | Accuracy: %.3f' %( epoch+1 , train_loss ,train_acc ))\n",
    "\n",
    "        \n",
    "        ##################################### Test phase\n",
    "        test_loss = 0\n",
    "        test_acc = 0\n",
    "        All_inputs = []\n",
    "        All_preds = []\n",
    "        All_labels = []\n",
    "        for inputs , labels in test_loader:\n",
    "            # clean inputs\n",
    "            inputs = inputs.float().to(device)\n",
    "            labels = labels.to(device)\n",
    "            # learn\n",
    "            outputs = model(inputs)\n",
    "            loss = F.cross_entropy(outputs, labels.long())  \n",
    "            # save loss\n",
    "            test_loss += loss.item()\n",
    "            # save acc\n",
    "            preds = torch.max(outputs, dim=1)[1]\n",
    "            test_acc += (preds == labels).float().sum()\n",
    "\n",
    "            # save all\n",
    "            All_preds.append(preds)\n",
    "            All_inputs.append(inputs)\n",
    "            All_labels.append(labels)\n",
    "        \n",
    "        test_loss /= len(test_loader.dataset)\n",
    "        test_acc /= len(test_loader.dataset)\n",
    "        av_acc += test_acc\n",
    "\n",
    "        print('==>test on fold: %d | Average loss: %.6f | Accuracy: %.3f' %(fold+1 , test_loss ,test_acc ))\n",
    "        print()\n",
    "\n",
    "        if test_acc > best_acc:\n",
    "            best_model = model\n",
    "            best_pred = All_preds\n",
    "            best_labels = All_labels\n",
    "            best_inputs = All_inputs\n",
    "            best_acc = test_acc\n",
    "    print()\n",
    "    print(\" =======> Final Acc:\", av_acc/5 ) \n",
    "    return best_model , best_pred , best_inputs , best_labels\n",
    "        "
   ]
  },
  {
   "cell_type": "code",
   "execution_count": 32,
   "metadata": {
    "colab": {
     "base_uri": "https://localhost:8080/",
     "height": 1000,
     "referenced_widgets": [
      "9883d6bf319a4fb3b8142848be54b2a4",
      "04928e232d764457bffb54c03e8b66bc",
      "84c25a02ef7f41eb8b6b8e9e184e0c5a",
      "dd791a50624040acae174858be6d27cb",
      "cf34df9365cb4f0594be9c913cd30129",
      "3f8cfbeca5d4499cbfbd8140c34c3e65",
      "df1c5275d0cc4ac8b598cd2dd9036b4d",
      "5d9a7396f63a410d8e4ec3f8abfa576f",
      "ae9d12bd80614b7a9a7a0cd6c91f7dba",
      "a8898f8714924f08925a1ba8cda7b1e8",
      "87d549ea359e421ab5011c7f47c5d3fb",
      "949a686d76fe4670b8f5d206daec0a8d",
      "59a19e3198e14c8ea7c25ffdd4084934",
      "c2f8fee45fe14b11a982da9261d40540",
      "14574d0aad8b40efad49395ca3fad5d3",
      "ad5493001bbe45af811a1c85cb11ead7",
      "843c6b6148304891852f035d0e3044af",
      "4c92b9b4fd804913ace38b5e4427cec6",
      "e6ab815f59304e33b959f1c643e1d2c6",
      "42ee5ba8d9e4494883df1316edff6afd",
      "20c54577e5d14562bc26e7578fa3f5b0",
      "6a43e253cb5248759166a1cf6cc77926",
      "06cef6e7fabc48d48fac2132a4cf6ebd",
      "3fd340f67a114e28bfdbdacda0711888",
      "6e3cb00fa71547cfafd391b32089eca3",
      "5f933c8977f142908e15e83fe42aa5c2",
      "6125c80ce4c74fed85b5606c0b57019a",
      "27e55704f6f24656839f74f0b4d37f4f",
      "e1d50447275f4ce2b93a3495cd3c2854",
      "0044567a12844b32b523b74a97c79139",
      "0ee22c78e7284b5fb469bed9c1c6690e",
      "bc904ff8ac26412f91e50868e18349ae",
      "a513d86a85fe4fec8ca7526a5324da5a",
      "cf5756ed2e7f4fa49585a70d0e241443",
      "07d4c40312f14a9b8553807437a5622f",
      "8a5cb44cbfee4395b84e324fc7c9cfaa",
      "2b1ebb197b8443a189519e634465a9ce",
      "8dfd1baa9dca4e7f8bdfcc0a4b8910a9",
      "133492698a324176ad278766b25a0977",
      "615571d279a046fa8ac79fd750ddcce7"
     ]
    },
    "id": "KCYxrUsYemy3",
    "outputId": "0fff3589-5ae2-4a1a-89a4-df1be13cfe08"
   },
   "outputs": [
    {
     "name": "stdout",
     "output_type": "stream",
     "text": [
      "torch.utils.data.dataset.Subset\n",
      "============================ fold 1 =======================================\n"
     ]
    },
    {
     "data": {
      "application/vnd.jupyter.widget-view+json": {
       "model_id": "9883d6bf319a4fb3b8142848be54b2a4",
       "version_major": 2,
       "version_minor": 0
      },
      "text/plain": [
       "HBox(children=(FloatProgress(value=0.0, max=20.0), HTML(value='')))"
      ]
     },
     "metadata": {
      "tags": []
     },
     "output_type": "display_data"
    },
    {
     "name": "stderr",
     "output_type": "stream",
     "text": [
      "/usr/local/lib/python3.6/dist-packages/ipykernel_launcher.py:45: UserWarning: Implicit dimension choice for softmax has been deprecated. Change the call to include dim=X as an argument.\n"
     ]
    },
    {
     "name": "stdout",
     "output_type": "stream",
     "text": [
      "==>epoch 1/20 | Average loss: 0.026370 | Accuracy: 0.398\n",
      "==>epoch 2/20 | Average loss: 0.024401 | Accuracy: 0.602\n",
      "==>epoch 3/20 | Average loss: 0.024303 | Accuracy: 0.566\n",
      "==>epoch 4/20 | Average loss: 0.023131 | Accuracy: 0.611\n",
      "==>epoch 5/20 | Average loss: 0.022812 | Accuracy: 0.646\n",
      "==>epoch 6/20 | Average loss: 0.023024 | Accuracy: 0.655\n",
      "==>epoch 7/20 | Average loss: 0.023048 | Accuracy: 0.646\n",
      "==>epoch 8/20 | Average loss: 0.022608 | Accuracy: 0.611\n",
      "==>epoch 9/20 | Average loss: 0.022614 | Accuracy: 0.681\n",
      "==>epoch 10/20 | Average loss: 0.022009 | Accuracy: 0.646\n",
      "==>epoch 11/20 | Average loss: 0.022072 | Accuracy: 0.673\n",
      "==>epoch 12/20 | Average loss: 0.021246 | Accuracy: 0.717\n",
      "==>epoch 13/20 | Average loss: 0.022188 | Accuracy: 0.664\n",
      "==>epoch 14/20 | Average loss: 0.021580 | Accuracy: 0.690\n",
      "==>epoch 15/20 | Average loss: 0.021561 | Accuracy: 0.699\n",
      "==>epoch 16/20 | Average loss: 0.021223 | Accuracy: 0.717\n",
      "==>epoch 17/20 | Average loss: 0.020099 | Accuracy: 0.779\n",
      "==>epoch 18/20 | Average loss: 0.020349 | Accuracy: 0.743\n",
      "==>epoch 19/20 | Average loss: 0.020927 | Accuracy: 0.735\n",
      "==>epoch 20/20 | Average loss: 0.020801 | Accuracy: 0.726\n",
      "\n",
      "==>test on fold: 1 | Average loss: 0.050078 | Accuracy: 0.615\n",
      "\n",
      "torch.utils.data.dataset.Subset\n",
      "============================ fold 2 =======================================\n"
     ]
    },
    {
     "data": {
      "application/vnd.jupyter.widget-view+json": {
       "model_id": "ae9d12bd80614b7a9a7a0cd6c91f7dba",
       "version_major": 2,
       "version_minor": 0
      },
      "text/plain": [
       "HBox(children=(FloatProgress(value=0.0, max=20.0), HTML(value='')))"
      ]
     },
     "metadata": {
      "tags": []
     },
     "output_type": "display_data"
    },
    {
     "name": "stdout",
     "output_type": "stream",
     "text": [
      "==>epoch 1/20 | Average loss: 0.025954 | Accuracy: 0.474\n",
      "==>epoch 2/20 | Average loss: 0.025376 | Accuracy: 0.534\n",
      "==>epoch 3/20 | Average loss: 0.023561 | Accuracy: 0.603\n",
      "==>epoch 4/20 | Average loss: 0.023990 | Accuracy: 0.569\n",
      "==>epoch 5/20 | Average loss: 0.023843 | Accuracy: 0.578\n",
      "==>epoch 6/20 | Average loss: 0.023259 | Accuracy: 0.586\n",
      "==>epoch 7/20 | Average loss: 0.023106 | Accuracy: 0.621\n",
      "==>epoch 8/20 | Average loss: 0.022991 | Accuracy: 0.595\n",
      "==>epoch 9/20 | Average loss: 0.022154 | Accuracy: 0.629\n",
      "==>epoch 10/20 | Average loss: 0.022509 | Accuracy: 0.655\n",
      "==>epoch 11/20 | Average loss: 0.021683 | Accuracy: 0.698\n",
      "==>epoch 12/20 | Average loss: 0.021452 | Accuracy: 0.690\n",
      "==>epoch 13/20 | Average loss: 0.021656 | Accuracy: 0.698\n",
      "==>epoch 14/20 | Average loss: 0.021779 | Accuracy: 0.647\n",
      "==>epoch 15/20 | Average loss: 0.020789 | Accuracy: 0.733\n",
      "==>epoch 16/20 | Average loss: 0.020615 | Accuracy: 0.690\n",
      "==>epoch 17/20 | Average loss: 0.020613 | Accuracy: 0.707\n",
      "==>epoch 18/20 | Average loss: 0.021499 | Accuracy: 0.698\n",
      "==>epoch 19/20 | Average loss: 0.020241 | Accuracy: 0.750\n",
      "==>epoch 20/20 | Average loss: 0.020008 | Accuracy: 0.767\n",
      "\n",
      "==>test on fold: 2 | Average loss: 0.061062 | Accuracy: 0.417\n",
      "\n",
      "torch.utils.data.dataset.Subset\n",
      "============================ fold 3 =======================================\n"
     ]
    },
    {
     "data": {
      "application/vnd.jupyter.widget-view+json": {
       "model_id": "843c6b6148304891852f035d0e3044af",
       "version_major": 2,
       "version_minor": 0
      },
      "text/plain": [
       "HBox(children=(FloatProgress(value=0.0, max=20.0), HTML(value='')))"
      ]
     },
     "metadata": {
      "tags": []
     },
     "output_type": "display_data"
    },
    {
     "name": "stdout",
     "output_type": "stream",
     "text": [
      "==>epoch 1/20 | Average loss: 0.025555 | Accuracy: 0.491\n",
      "==>epoch 2/20 | Average loss: 0.025059 | Accuracy: 0.570\n",
      "==>epoch 3/20 | Average loss: 0.023410 | Accuracy: 0.588\n",
      "==>epoch 4/20 | Average loss: 0.023023 | Accuracy: 0.649\n",
      "==>epoch 5/20 | Average loss: 0.023158 | Accuracy: 0.605\n",
      "==>epoch 6/20 | Average loss: 0.022500 | Accuracy: 0.667\n",
      "==>epoch 7/20 | Average loss: 0.022636 | Accuracy: 0.614\n",
      "==>epoch 8/20 | Average loss: 0.021048 | Accuracy: 0.667\n",
      "==>epoch 9/20 | Average loss: 0.021485 | Accuracy: 0.702\n",
      "==>epoch 10/20 | Average loss: 0.021514 | Accuracy: 0.702\n",
      "==>epoch 11/20 | Average loss: 0.021275 | Accuracy: 0.693\n",
      "==>epoch 12/20 | Average loss: 0.020978 | Accuracy: 0.711\n",
      "==>epoch 13/20 | Average loss: 0.021551 | Accuracy: 0.667\n",
      "==>epoch 14/20 | Average loss: 0.022340 | Accuracy: 0.675\n",
      "==>epoch 15/20 | Average loss: 0.020370 | Accuracy: 0.763\n",
      "==>epoch 16/20 | Average loss: 0.021436 | Accuracy: 0.719\n",
      "==>epoch 17/20 | Average loss: 0.020566 | Accuracy: 0.728\n",
      "==>epoch 18/20 | Average loss: 0.021045 | Accuracy: 0.711\n",
      "==>epoch 19/20 | Average loss: 0.019229 | Accuracy: 0.781\n",
      "==>epoch 20/20 | Average loss: 0.020466 | Accuracy: 0.737\n",
      "\n",
      "==>test on fold: 3 | Average loss: 0.066056 | Accuracy: 0.500\n",
      "\n",
      "torch.utils.data.dataset.Subset\n",
      "============================ fold 4 =======================================\n"
     ]
    },
    {
     "data": {
      "application/vnd.jupyter.widget-view+json": {
       "model_id": "6e3cb00fa71547cfafd391b32089eca3",
       "version_major": 2,
       "version_minor": 0
      },
      "text/plain": [
       "HBox(children=(FloatProgress(value=0.0, max=20.0), HTML(value='')))"
      ]
     },
     "metadata": {
      "tags": []
     },
     "output_type": "display_data"
    },
    {
     "name": "stdout",
     "output_type": "stream",
     "text": [
      "==>epoch 1/20 | Average loss: 0.023448 | Accuracy: 0.475\n",
      "==>epoch 2/20 | Average loss: 0.023162 | Accuracy: 0.558\n",
      "==>epoch 3/20 | Average loss: 0.022865 | Accuracy: 0.550\n",
      "==>epoch 4/20 | Average loss: 0.022489 | Accuracy: 0.583\n",
      "==>epoch 5/20 | Average loss: 0.022515 | Accuracy: 0.600\n",
      "==>epoch 6/20 | Average loss: 0.021689 | Accuracy: 0.625\n",
      "==>epoch 7/20 | Average loss: 0.021307 | Accuracy: 0.608\n",
      "==>epoch 8/20 | Average loss: 0.021452 | Accuracy: 0.667\n",
      "==>epoch 9/20 | Average loss: 0.021289 | Accuracy: 0.617\n",
      "==>epoch 10/20 | Average loss: 0.020514 | Accuracy: 0.683\n",
      "==>epoch 11/20 | Average loss: 0.020741 | Accuracy: 0.658\n",
      "==>epoch 12/20 | Average loss: 0.020705 | Accuracy: 0.642\n",
      "==>epoch 13/20 | Average loss: 0.019519 | Accuracy: 0.717\n",
      "==>epoch 14/20 | Average loss: 0.020729 | Accuracy: 0.708\n",
      "==>epoch 15/20 | Average loss: 0.020149 | Accuracy: 0.642\n",
      "==>epoch 16/20 | Average loss: 0.019335 | Accuracy: 0.750\n",
      "==>epoch 17/20 | Average loss: 0.019062 | Accuracy: 0.725\n",
      "==>epoch 18/20 | Average loss: 0.019706 | Accuracy: 0.717\n",
      "==>epoch 19/20 | Average loss: 0.019459 | Accuracy: 0.725\n",
      "==>epoch 20/20 | Average loss: 0.019278 | Accuracy: 0.717\n",
      "\n",
      "==>test on fold: 4 | Average loss: 0.066674 | Accuracy: 0.500\n",
      "\n",
      "torch.utils.data.dataset.Subset\n",
      "============================ fold 5 =======================================\n"
     ]
    },
    {
     "data": {
      "application/vnd.jupyter.widget-view+json": {
       "model_id": "a513d86a85fe4fec8ca7526a5324da5a",
       "version_major": 2,
       "version_minor": 0
      },
      "text/plain": [
       "HBox(children=(FloatProgress(value=0.0, max=20.0), HTML(value='')))"
      ]
     },
     "metadata": {
      "tags": []
     },
     "output_type": "display_data"
    },
    {
     "name": "stdout",
     "output_type": "stream",
     "text": [
      "==>epoch 1/20 | Average loss: 0.023933 | Accuracy: 0.581\n",
      "==>epoch 2/20 | Average loss: 0.023342 | Accuracy: 0.556\n",
      "==>epoch 3/20 | Average loss: 0.022555 | Accuracy: 0.590\n",
      "==>epoch 4/20 | Average loss: 0.021649 | Accuracy: 0.667\n",
      "==>epoch 5/20 | Average loss: 0.022208 | Accuracy: 0.641\n",
      "==>epoch 6/20 | Average loss: 0.021873 | Accuracy: 0.641\n",
      "==>epoch 7/20 | Average loss: 0.021903 | Accuracy: 0.632\n",
      "==>epoch 8/20 | Average loss: 0.021316 | Accuracy: 0.667\n",
      "==>epoch 9/20 | Average loss: 0.021252 | Accuracy: 0.675\n",
      "==>epoch 10/20 | Average loss: 0.020926 | Accuracy: 0.692\n",
      "==>epoch 11/20 | Average loss: 0.020754 | Accuracy: 0.726\n",
      "==>epoch 12/20 | Average loss: 0.020430 | Accuracy: 0.709\n",
      "==>epoch 13/20 | Average loss: 0.020569 | Accuracy: 0.684\n",
      "==>epoch 14/20 | Average loss: 0.021103 | Accuracy: 0.718\n",
      "==>epoch 15/20 | Average loss: 0.020226 | Accuracy: 0.718\n",
      "==>epoch 16/20 | Average loss: 0.020584 | Accuracy: 0.709\n",
      "==>epoch 17/20 | Average loss: 0.020131 | Accuracy: 0.718\n",
      "==>epoch 18/20 | Average loss: 0.019946 | Accuracy: 0.761\n",
      "==>epoch 19/20 | Average loss: 0.019575 | Accuracy: 0.761\n",
      "==>epoch 20/20 | Average loss: 0.019918 | Accuracy: 0.726\n",
      "\n",
      "==>test on fold: 5 | Average loss: 0.054992 | Accuracy: 0.583\n",
      "\n",
      "\n",
      " =======> Final Acc: tensor(0.5231, device='cuda:0')\n"
     ]
    }
   ],
   "source": [
    "best_model , best_pred , best_inputs , best_labels = train(epochs = 20)"
   ]
  },
  {
   "cell_type": "code",
   "execution_count": 14,
   "metadata": {
    "colab": {
     "base_uri": "https://localhost:8080/"
    },
    "id": "0_ASw4mjU00g",
    "outputId": "8503737c-5906-4071-d695-a0a2c0757ec8"
   },
   "outputs": [
    {
     "name": "stdout",
     "output_type": "stream",
     "text": [
      "Requirement already satisfied: captum in /usr/local/lib/python3.6/dist-packages (0.3.0)\n",
      "Requirement already satisfied: torch>=1.2 in /usr/local/lib/python3.6/dist-packages (from captum) (1.7.0+cu101)\n",
      "Requirement already satisfied: numpy in /usr/local/lib/python3.6/dist-packages (from captum) (1.18.5)\n",
      "Requirement already satisfied: matplotlib in /usr/local/lib/python3.6/dist-packages (from captum) (3.2.2)\n",
      "Requirement already satisfied: dataclasses in /usr/local/lib/python3.6/dist-packages (from torch>=1.2->captum) (0.7)\n",
      "Requirement already satisfied: future in /usr/local/lib/python3.6/dist-packages (from torch>=1.2->captum) (0.16.0)\n",
      "Requirement already satisfied: typing-extensions in /usr/local/lib/python3.6/dist-packages (from torch>=1.2->captum) (3.7.4.3)\n",
      "Requirement already satisfied: pyparsing!=2.0.4,!=2.1.2,!=2.1.6,>=2.0.1 in /usr/local/lib/python3.6/dist-packages (from matplotlib->captum) (2.4.7)\n",
      "Requirement already satisfied: python-dateutil>=2.1 in /usr/local/lib/python3.6/dist-packages (from matplotlib->captum) (2.8.1)\n",
      "Requirement already satisfied: cycler>=0.10 in /usr/local/lib/python3.6/dist-packages (from matplotlib->captum) (0.10.0)\n",
      "Requirement already satisfied: kiwisolver>=1.0.1 in /usr/local/lib/python3.6/dist-packages (from matplotlib->captum) (1.3.1)\n",
      "Requirement already satisfied: six>=1.5 in /usr/local/lib/python3.6/dist-packages (from python-dateutil>=2.1->matplotlib->captum) (1.15.0)\n"
     ]
    }
   ],
   "source": [
    "pip install captum"
   ]
  },
  {
   "cell_type": "code",
   "execution_count": 113,
   "metadata": {
    "id": "qILAtrvj1H00"
   },
   "outputs": [],
   "source": [
    "t = best_inputs[0]"
   ]
  },
  {
   "cell_type": "code",
   "execution_count": 117,
   "metadata": {
    "id": "jfIPSuKB0czw"
   },
   "outputs": [],
   "source": [
    "from captum.attr import LayerGradCam"
   ]
  },
  {
   "cell_type": "code",
   "execution_count": 118,
   "metadata": {
    "id": "eWSj90NQ0c4j"
   },
   "outputs": [],
   "source": [
    "layer_gc = LayerGradCam(best_model, best_model.conv4)"
   ]
  },
  {
   "cell_type": "code",
   "execution_count": 119,
   "metadata": {
    "colab": {
     "base_uri": "https://localhost:8080/"
    },
    "id": "OilnnrBR0dME",
    "outputId": "1555ffc7-a9d8-4130-f678-3f19af344f04"
   },
   "outputs": [
    {
     "name": "stderr",
     "output_type": "stream",
     "text": [
      "/usr/local/lib/python3.6/dist-packages/captum/_utils/gradient.py:55: UserWarning: Input Tensor 0 did not already require gradients, required_grads has been set automatically.\n",
      "  \"required_grads has been set automatically.\" % index\n",
      "/usr/local/lib/python3.6/dist-packages/ipykernel_launcher.py:45: UserWarning: Implicit dimension choice for softmax has been deprecated. Change the call to include dim=X as an argument.\n"
     ]
    }
   ],
   "source": [
    "c_attr = layer_gc.attribute(t, 1)"
   ]
  },
  {
   "cell_type": "code",
   "execution_count": 120,
   "metadata": {
    "id": "vzjoQbRJ6_JJ"
   },
   "outputs": [],
   "source": [
    "from captum.attr._utils.attribution import LayerAttribution"
   ]
  },
  {
   "cell_type": "code",
   "execution_count": 121,
   "metadata": {
    "id": "PpWsDCrO6xWG"
   },
   "outputs": [],
   "source": [
    "upsampled_attr = LayerAttribution.interpolate(c_attr, (20 , 128, 128))"
   ]
  },
  {
   "cell_type": "code",
   "execution_count": 129,
   "metadata": {
    "colab": {
     "base_uri": "https://localhost:8080/",
     "height": 286
    },
    "id": "0Lf1FCq31hAb",
    "outputId": "5d5f29e9-b9e1-4d49-ddf3-f6cbc3fb270d"
   },
   "outputs": [
    {
     "data": {
      "text/plain": [
       "<matplotlib.image.AxesImage at 0x7f3bab6faf60>"
      ]
     },
     "execution_count": 129,
     "metadata": {
      "tags": []
     },
     "output_type": "execute_result"
    },
    {
     "data": {
      "image/png": "[encoded data removed]",
      "text/plain": [
       "<Figure size 432x288 with 1 Axes>"
      ]
     },
     "metadata": {
      "needs_background": "light",
      "tags": []
     },
     "output_type": "display_data"
    }
   ],
   "source": [
    "plt.imshow(t[12 , 0  , 0 , : , :].cpu() , cmap = 'gray')"
   ]
  },
  {
   "cell_type": "code",
   "execution_count": 128,
   "metadata": {
    "colab": {
     "base_uri": "https://localhost:8080/",
     "height": 286
    },
    "id": "jt2DfwfE0dOz",
    "outputId": "479e3a1c-29db-4998-b1fc-8b3c8e9d7f98"
   },
   "outputs": [
    {
     "data": {
      "text/plain": [
       "<matplotlib.image.AxesImage at 0x7f3bab066fd0>"
      ]
     },
     "execution_count": 128,
     "metadata": {
      "tags": []
     },
     "output_type": "execute_result"
    },
    {
     "data": {
      "image/png": "[encoded data removed]",
      "text/plain": [
       "<Figure size 432x288 with 1 Axes>"
      ]
     },
     "metadata": {
      "needs_background": "light",
      "tags": []
     },
     "output_type": "display_data"
    }
   ],
   "source": [
    "plt.imshow(upsampled_attr[12 , 0  , 0 , : , :].detach().cpu() , cmap = 'jet')"
   ]
  }
 ],
 "metadata": {
  "accelerator": "GPU",
  "colab": {
   "collapsed_sections": [],
   "machine_shape": "hm",
   "name": "HW2.ipynb",
   "provenance": []
  },
  "kernelspec": {
   "display_name": "Python 3",
   "language": "python",
   "name": "python3"
  },
  "language_info": {
   "codemirror_mode": {
    "name": "ipython",
    "version": 3
   },
   "file_extension": ".py",
   "mimetype": "text/x-python",
   "name": "python",
   "nbconvert_exporter": "python",
   "pygments_lexer": "ipython3",
   "version": "3.7.3"
  },
  "widgets": {
   "application/vnd.jupyter.widget-state+json": {
    "0044567a12844b32b523b74a97c79139": {
     "model_module": "@jupyter-widgets/base",
     "model_name": "LayoutModel",
     "state": {
      "_model_module": "@jupyter-widgets/base",
      "_model_module_version": "1.2.0",
      "_model_name": "LayoutModel",
      "_view_count": null,
      "_view_module": "@jupyter-widgets/base",
      "_view_module_version": "1.2.0",
      "_view_name": "LayoutView",
      "align_content": null,
      "align_items": null,
      "align_self": null,
      "border": null,
      "bottom": null,
      "display": null,
      "flex": null,
      "flex_flow": null,
      "grid_area": null,
      "grid_auto_columns": null,
      "grid_auto_flow": null,
      "grid_auto_rows": null,
      "grid_column": null,
      "grid_gap": null,
      "grid_row": null,
      "grid_template_areas": null,
      "grid_template_columns": null,
      "grid_template_rows": null,
      "height": null,
      "justify_content": null,
      "justify_items": null,
      "left": null,
      "margin": null,
      "max_height": null,
      "max_width": null,
      "min_height": null,
      "min_width": null,
      "object_fit": null,
      "object_position": null,
      "order": null,
      "overflow": null,
      "overflow_x": null,
      "overflow_y": null,
      "padding": null,
      "right": null,
      "top": null,
      "visibility": null,
      "width": null
     }
    },
    "04928e232d764457bffb54c03e8b66bc": {
     "model_module": "@jupyter-widgets/base",
     "model_name": "LayoutModel",
     "state": {
      "_model_module": "@jupyter-widgets/base",
      "_model_module_version": "1.2.0",
      "_model_name": "LayoutModel",
      "_view_count": null,
      "_view_module": "@jupyter-widgets/base",
      "_view_module_version": "1.2.0",
      "_view_name": "LayoutView",
      "align_content": null,
      "align_items": null,
      "align_self": null,
      "border": null,
      "bottom": null,
      "display": null,
      "flex": null,
      "flex_flow": null,
      "grid_area": null,
      "grid_auto_columns": null,
      "grid_auto_flow": null,
      "grid_auto_rows": null,
      "grid_column": null,
      "grid_gap": null,
      "grid_row": null,
      "grid_template_areas": null,
      "grid_template_columns": null,
      "grid_template_rows": null,
      "height": null,
      "justify_content": null,
      "justify_items": null,
      "left": null,
      "margin": null,
      "max_height": null,
      "max_width": null,
      "min_height": null,
      "min_width": null,
      "object_fit": null,
      "object_position": null,
      "order": null,
      "overflow": null,
      "overflow_x": null,
      "overflow_y": null,
      "padding": null,
      "right": null,
      "top": null,
      "visibility": null,
      "width": null
     }
    },
    "06cef6e7fabc48d48fac2132a4cf6ebd": {
     "model_module": "@jupyter-widgets/controls",
     "model_name": "DescriptionStyleModel",
     "state": {
      "_model_module": "@jupyter-widgets/controls",
      "_model_module_version": "1.5.0",
      "_model_name": "DescriptionStyleModel",
      "_view_count": null,
      "_view_module": "@jupyter-widgets/base",
      "_view_module_version": "1.2.0",
      "_view_name": "StyleView",
      "description_width": ""
     }
    },
    "07d4c40312f14a9b8553807437a5622f": {
     "model_module": "@jupyter-widgets/controls",
     "model_name": "FloatProgressModel",
     "state": {
      "_dom_classes": [],
      "_model_module": "@jupyter-widgets/controls",
      "_model_module_version": "1.5.0",
      "_model_name": "FloatProgressModel",
      "_view_count": null,
      "_view_module": "@jupyter-widgets/controls",
      "_view_module_version": "1.5.0",
      "_view_name": "ProgressView",
      "bar_style": "success",
      "description": "100%",
      "description_tooltip": null,
      "layout": "IPY_MODEL_8dfd1baa9dca4e7f8bdfcc0a4b8910a9",
      "max": 20,
      "min": 0,
      "orientation": "horizontal",
      "style": "IPY_MODEL_2b1ebb197b8443a189519e634465a9ce",
      "value": 20
     }
    },
    "0eb8545a92f34477b2c4517b8fbce54f": {
     "model_module": "@jupyter-widgets/controls",
     "model_name": "FloatProgressModel",
     "state": {
      "_dom_classes": [],
      "_model_module": "@jupyter-widgets/controls",
      "_model_module_version": "1.5.0",
      "_model_name": "FloatProgressModel",
      "_view_count": null,
      "_view_module": "@jupyter-widgets/controls",
      "_view_module_version": "1.5.0",
      "_view_name": "ProgressView",
      "bar_style": "success",
      "description": "Reading: ",
      "description_tooltip": null,
      "layout": "IPY_MODEL_bb9829636fa5451da52600f6f559f875",
      "max": 1,
      "min": 0,
      "orientation": "horizontal",
      "style": "IPY_MODEL_4a00b5c5b6bc4d3bb4d14084728bdb0c",
      "value": 1
     }
    },
    "0ee22c78e7284b5fb469bed9c1c6690e": {
     "model_module": "@jupyter-widgets/controls",
     "model_name": "DescriptionStyleModel",
     "state": {
      "_model_module": "@jupyter-widgets/controls",
      "_model_module_version": "1.5.0",
      "_model_name": "DescriptionStyleModel",
      "_view_count": null,
      "_view_module": "@jupyter-widgets/base",
      "_view_module_version": "1.2.0",
      "_view_name": "StyleView",
      "description_width": ""
     }
    },
    "133492698a324176ad278766b25a0977": {
     "model_module": "@jupyter-widgets/controls",
     "model_name": "DescriptionStyleModel",
     "state": {
      "_model_module": "@jupyter-widgets/controls",
      "_model_module_version": "1.5.0",
      "_model_name": "DescriptionStyleModel",
      "_view_count": null,
      "_view_module": "@jupyter-widgets/base",
      "_view_module_version": "1.2.0",
      "_view_name": "StyleView",
      "description_width": ""
     }
    },
    "14574d0aad8b40efad49395ca3fad5d3": {
     "model_module": "@jupyter-widgets/controls",
     "model_name": "DescriptionStyleModel",
     "state": {
      "_model_module": "@jupyter-widgets/controls",
      "_model_module_version": "1.5.0",
      "_model_name": "DescriptionStyleModel",
      "_view_count": null,
      "_view_module": "@jupyter-widgets/base",
      "_view_module_version": "1.2.0",
      "_view_name": "StyleView",
      "description_width": ""
     }
    },
    "20c54577e5d14562bc26e7578fa3f5b0": {
     "model_module": "@jupyter-widgets/controls",
     "model_name": "ProgressStyleModel",
     "state": {
      "_model_module": "@jupyter-widgets/controls",
      "_model_module_version": "1.5.0",
      "_model_name": "ProgressStyleModel",
      "_view_count": null,
      "_view_module": "@jupyter-widgets/base",
      "_view_module_version": "1.2.0",
      "_view_name": "StyleView",
      "bar_color": null,
      "description_width": "initial"
     }
    },
    "27e55704f6f24656839f74f0b4d37f4f": {
     "model_module": "@jupyter-widgets/controls",
     "model_name": "HTMLModel",
     "state": {
      "_dom_classes": [],
      "_model_module": "@jupyter-widgets/controls",
      "_model_module_version": "1.5.0",
      "_model_name": "HTMLModel",
      "_view_count": null,
      "_view_module": "@jupyter-widgets/controls",
      "_view_module_version": "1.5.0",
      "_view_name": "HTMLView",
      "description": "",
      "description_tooltip": null,
      "layout": "IPY_MODEL_bc904ff8ac26412f91e50868e18349ae",
      "placeholder": "​",
      "style": "IPY_MODEL_0ee22c78e7284b5fb469bed9c1c6690e",
      "value": " 20/20 [00:12&lt;00:00,  1.65it/s]"
     }
    },
    "2b1ebb197b8443a189519e634465a9ce": {
     "model_module": "@jupyter-widgets/controls",
     "model_name": "ProgressStyleModel",
     "state": {
      "_model_module": "@jupyter-widgets/controls",
      "_model_module_version": "1.5.0",
      "_model_name": "ProgressStyleModel",
      "_view_count": null,
      "_view_module": "@jupyter-widgets/base",
      "_view_module_version": "1.2.0",
      "_view_name": "StyleView",
      "bar_color": null,
      "description_width": "initial"
     }
    },
    "3f8cfbeca5d4499cbfbd8140c34c3e65": {
     "model_module": "@jupyter-widgets/base",
     "model_name": "LayoutModel",
     "state": {
      "_model_module": "@jupyter-widgets/base",
      "_model_module_version": "1.2.0",
      "_model_name": "LayoutModel",
      "_view_count": null,
      "_view_module": "@jupyter-widgets/base",
      "_view_module_version": "1.2.0",
      "_view_name": "LayoutView",
      "align_content": null,
      "align_items": null,
      "align_self": null,
      "border": null,
      "bottom": null,
      "display": null,
      "flex": null,
      "flex_flow": null,
      "grid_area": null,
      "grid_auto_columns": null,
      "grid_auto_flow": null,
      "grid_auto_rows": null,
      "grid_column": null,
      "grid_gap": null,
      "grid_row": null,
      "grid_template_areas": null,
      "grid_template_columns": null,
      "grid_template_rows": null,
      "height": null,
      "justify_content": null,
      "justify_items": null,
      "left": null,
      "margin": null,
      "max_height": null,
      "max_width": null,
      "min_height": null,
      "min_width": null,
      "object_fit": null,
      "object_position": null,
      "order": null,
      "overflow": null,
      "overflow_x": null,
      "overflow_y": null,
      "padding": null,
      "right": null,
      "top": null,
      "visibility": null,
      "width": null
     }
    },
    "3fd340f67a114e28bfdbdacda0711888": {
     "model_module": "@jupyter-widgets/base",
     "model_name": "LayoutModel",
     "state": {
      "_model_module": "@jupyter-widgets/base",
      "_model_module_version": "1.2.0",
      "_model_name": "LayoutModel",
      "_view_count": null,
      "_view_module": "@jupyter-widgets/base",
      "_view_module_version": "1.2.0",
      "_view_name": "LayoutView",
      "align_content": null,
      "align_items": null,
      "align_self": null,
      "border": null,
      "bottom": null,
      "display": null,
      "flex": null,
      "flex_flow": null,
      "grid_area": null,
      "grid_auto_columns": null,
      "grid_auto_flow": null,
      "grid_auto_rows": null,
      "grid_column": null,
      "grid_gap": null,
      "grid_row": null,
      "grid_template_areas": null,
      "grid_template_columns": null,
      "grid_template_rows": null,
      "height": null,
      "justify_content": null,
      "justify_items": null,
      "left": null,
      "margin": null,
      "max_height": null,
      "max_width": null,
      "min_height": null,
      "min_width": null,
      "object_fit": null,
      "object_position": null,
      "order": null,
      "overflow": null,
      "overflow_x": null,
      "overflow_y": null,
      "padding": null,
      "right": null,
      "top": null,
      "visibility": null,
      "width": null
     }
    },
    "42ee5ba8d9e4494883df1316edff6afd": {
     "model_module": "@jupyter-widgets/controls",
     "model_name": "HTMLModel",
     "state": {
      "_dom_classes": [],
      "_model_module": "@jupyter-widgets/controls",
      "_model_module_version": "1.5.0",
      "_model_name": "HTMLModel",
      "_view_count": null,
      "_view_module": "@jupyter-widgets/controls",
      "_view_module_version": "1.5.0",
      "_view_name": "HTMLView",
      "description": "",
      "description_tooltip": null,
      "layout": "IPY_MODEL_3fd340f67a114e28bfdbdacda0711888",
      "placeholder": "​",
      "style": "IPY_MODEL_06cef6e7fabc48d48fac2132a4cf6ebd",
      "value": " 20/20 [00:24&lt;00:00,  1.20s/it]"
     }
    },
    "4a00b5c5b6bc4d3bb4d14084728bdb0c": {
     "model_module": "@jupyter-widgets/controls",
     "model_name": "ProgressStyleModel",
     "state": {
      "_model_module": "@jupyter-widgets/controls",
      "_model_module_version": "1.5.0",
      "_model_name": "ProgressStyleModel",
      "_view_count": null,
      "_view_module": "@jupyter-widgets/base",
      "_view_module_version": "1.2.0",
      "_view_name": "StyleView",
      "bar_color": null,
      "description_width": "initial"
     }
    },
    "4c92b9b4fd804913ace38b5e4427cec6": {
     "model_module": "@jupyter-widgets/base",
     "model_name": "LayoutModel",
     "state": {
      "_model_module": "@jupyter-widgets/base",
      "_model_module_version": "1.2.0",
      "_model_name": "LayoutModel",
      "_view_count": null,
      "_view_module": "@jupyter-widgets/base",
      "_view_module_version": "1.2.0",
      "_view_name": "LayoutView",
      "align_content": null,
      "align_items": null,
      "align_self": null,
      "border": null,
      "bottom": null,
      "display": null,
      "flex": null,
      "flex_flow": null,
      "grid_area": null,
      "grid_auto_columns": null,
      "grid_auto_flow": null,
      "grid_auto_rows": null,
      "grid_column": null,
      "grid_gap": null,
      "grid_row": null,
      "grid_template_areas": null,
      "grid_template_columns": null,
      "grid_template_rows": null,
      "height": null,
      "justify_content": null,
      "justify_items": null,
      "left": null,
      "margin": null,
      "max_height": null,
      "max_width": null,
      "min_height": null,
      "min_width": null,
      "object_fit": null,
      "object_position": null,
      "order": null,
      "overflow": null,
      "overflow_x": null,
      "overflow_y": null,
      "padding": null,
      "right": null,
      "top": null,
      "visibility": null,
      "width": null
     }
    },
    "51f4c24fd82f4fb9a94db95cac97488a": {
     "model_module": "@jupyter-widgets/controls",
     "model_name": "DescriptionStyleModel",
     "state": {
      "_model_module": "@jupyter-widgets/controls",
      "_model_module_version": "1.5.0",
      "_model_name": "DescriptionStyleModel",
      "_view_count": null,
      "_view_module": "@jupyter-widgets/base",
      "_view_module_version": "1.2.0",
      "_view_name": "StyleView",
      "description_width": ""
     }
    },
    "59a19e3198e14c8ea7c25ffdd4084934": {
     "model_module": "@jupyter-widgets/controls",
     "model_name": "ProgressStyleModel",
     "state": {
      "_model_module": "@jupyter-widgets/controls",
      "_model_module_version": "1.5.0",
      "_model_name": "ProgressStyleModel",
      "_view_count": null,
      "_view_module": "@jupyter-widgets/base",
      "_view_module_version": "1.2.0",
      "_view_name": "StyleView",
      "bar_color": null,
      "description_width": "initial"
     }
    },
    "5d9a7396f63a410d8e4ec3f8abfa576f": {
     "model_module": "@jupyter-widgets/base",
     "model_name": "LayoutModel",
     "state": {
      "_model_module": "@jupyter-widgets/base",
      "_model_module_version": "1.2.0",
      "_model_name": "LayoutModel",
      "_view_count": null,
      "_view_module": "@jupyter-widgets/base",
      "_view_module_version": "1.2.0",
      "_view_name": "LayoutView",
      "align_content": null,
      "align_items": null,
      "align_self": null,
      "border": null,
      "bottom": null,
      "display": null,
      "flex": null,
      "flex_flow": null,
      "grid_area": null,
      "grid_auto_columns": null,
      "grid_auto_flow": null,
      "grid_auto_rows": null,
      "grid_column": null,
      "grid_gap": null,
      "grid_row": null,
      "grid_template_areas": null,
      "grid_template_columns": null,
      "grid_template_rows": null,
      "height": null,
      "justify_content": null,
      "justify_items": null,
      "left": null,
      "margin": null,
      "max_height": null,
      "max_width": null,
      "min_height": null,
      "min_width": null,
      "object_fit": null,
      "object_position": null,
      "order": null,
      "overflow": null,
      "overflow_x": null,
      "overflow_y": null,
      "padding": null,
      "right": null,
      "top": null,
      "visibility": null,
      "width": null
     }
    },
    "5f933c8977f142908e15e83fe42aa5c2": {
     "model_module": "@jupyter-widgets/base",
     "model_name": "LayoutModel",
     "state": {
      "_model_module": "@jupyter-widgets/base",
      "_model_module_version": "1.2.0",
      "_model_name": "LayoutModel",
      "_view_count": null,
      "_view_module": "@jupyter-widgets/base",
      "_view_module_version": "1.2.0",
      "_view_name": "LayoutView",
      "align_content": null,
      "align_items": null,
      "align_self": null,
      "border": null,
      "bottom": null,
      "display": null,
      "flex": null,
      "flex_flow": null,
      "grid_area": null,
      "grid_auto_columns": null,
      "grid_auto_flow": null,
      "grid_auto_rows": null,
      "grid_column": null,
      "grid_gap": null,
      "grid_row": null,
      "grid_template_areas": null,
      "grid_template_columns": null,
      "grid_template_rows": null,
      "height": null,
      "justify_content": null,
      "justify_items": null,
      "left": null,
      "margin": null,
      "max_height": null,
      "max_width": null,
      "min_height": null,
      "min_width": null,
      "object_fit": null,
      "object_position": null,
      "order": null,
      "overflow": null,
      "overflow_x": null,
      "overflow_y": null,
      "padding": null,
      "right": null,
      "top": null,
      "visibility": null,
      "width": null
     }
    },
    "6125c80ce4c74fed85b5606c0b57019a": {
     "model_module": "@jupyter-widgets/controls",
     "model_name": "FloatProgressModel",
     "state": {
      "_dom_classes": [],
      "_model_module": "@jupyter-widgets/controls",
      "_model_module_version": "1.5.0",
      "_model_name": "FloatProgressModel",
      "_view_count": null,
      "_view_module": "@jupyter-widgets/controls",
      "_view_module_version": "1.5.0",
      "_view_name": "ProgressView",
      "bar_style": "success",
      "description": "100%",
      "description_tooltip": null,
      "layout": "IPY_MODEL_0044567a12844b32b523b74a97c79139",
      "max": 20,
      "min": 0,
      "orientation": "horizontal",
      "style": "IPY_MODEL_e1d50447275f4ce2b93a3495cd3c2854",
      "value": 20
     }
    },
    "615571d279a046fa8ac79fd750ddcce7": {
     "model_module": "@jupyter-widgets/base",
     "model_name": "LayoutModel",
     "state": {
      "_model_module": "@jupyter-widgets/base",
      "_model_module_version": "1.2.0",
      "_model_name": "LayoutModel",
      "_view_count": null,
      "_view_module": "@jupyter-widgets/base",
      "_view_module_version": "1.2.0",
      "_view_name": "LayoutView",
      "align_content": null,
      "align_items": null,
      "align_self": null,
      "border": null,
      "bottom": null,
      "display": null,
      "flex": null,
      "flex_flow": null,
      "grid_area": null,
      "grid_auto_columns": null,
      "grid_auto_flow": null,
      "grid_auto_rows": null,
      "grid_column": null,
      "grid_gap": null,
      "grid_row": null,
      "grid_template_areas": null,
      "grid_template_columns": null,
      "grid_template_rows": null,
      "height": null,
      "justify_content": null,
      "justify_items": null,
      "left": null,
      "margin": null,
      "max_height": null,
      "max_width": null,
      "min_height": null,
      "min_width": null,
      "object_fit": null,
      "object_position": null,
      "order": null,
      "overflow": null,
      "overflow_x": null,
      "overflow_y": null,
      "padding": null,
      "right": null,
      "top": null,
      "visibility": null,
      "width": null
     }
    },
    "6a43e253cb5248759166a1cf6cc77926": {
     "model_module": "@jupyter-widgets/base",
     "model_name": "LayoutModel",
     "state": {
      "_model_module": "@jupyter-widgets/base",
      "_model_module_version": "1.2.0",
      "_model_name": "LayoutModel",
      "_view_count": null,
      "_view_module": "@jupyter-widgets/base",
      "_view_module_version": "1.2.0",
      "_view_name": "LayoutView",
      "align_content": null,
      "align_items": null,
      "align_self": null,
      "border": null,
      "bottom": null,
      "display": null,
      "flex": null,
      "flex_flow": null,
      "grid_area": null,
      "grid_auto_columns": null,
      "grid_auto_flow": null,
      "grid_auto_rows": null,
      "grid_column": null,
      "grid_gap": null,
      "grid_row": null,
      "grid_template_areas": null,
      "grid_template_columns": null,
      "grid_template_rows": null,
      "height": null,
      "justify_content": null,
      "justify_items": null,
      "left": null,
      "margin": null,
      "max_height": null,
      "max_width": null,
      "min_height": null,
      "min_width": null,
      "object_fit": null,
      "object_position": null,
      "order": null,
      "overflow": null,
      "overflow_x": null,
      "overflow_y": null,
      "padding": null,
      "right": null,
      "top": null,
      "visibility": null,
      "width": null
     }
    },
    "6e3cb00fa71547cfafd391b32089eca3": {
     "model_module": "@jupyter-widgets/controls",
     "model_name": "HBoxModel",
     "state": {
      "_dom_classes": [],
      "_model_module": "@jupyter-widgets/controls",
      "_model_module_version": "1.5.0",
      "_model_name": "HBoxModel",
      "_view_count": null,
      "_view_module": "@jupyter-widgets/controls",
      "_view_module_version": "1.5.0",
      "_view_name": "HBoxView",
      "box_style": "",
      "children": [
       "IPY_MODEL_6125c80ce4c74fed85b5606c0b57019a",
       "IPY_MODEL_27e55704f6f24656839f74f0b4d37f4f"
      ],
      "layout": "IPY_MODEL_5f933c8977f142908e15e83fe42aa5c2"
     }
    },
    "843c6b6148304891852f035d0e3044af": {
     "model_module": "@jupyter-widgets/controls",
     "model_name": "HBoxModel",
     "state": {
      "_dom_classes": [],
      "_model_module": "@jupyter-widgets/controls",
      "_model_module_version": "1.5.0",
      "_model_name": "HBoxModel",
      "_view_count": null,
      "_view_module": "@jupyter-widgets/controls",
      "_view_module_version": "1.5.0",
      "_view_name": "HBoxView",
      "box_style": "",
      "children": [
       "IPY_MODEL_e6ab815f59304e33b959f1c643e1d2c6",
       "IPY_MODEL_42ee5ba8d9e4494883df1316edff6afd"
      ],
      "layout": "IPY_MODEL_4c92b9b4fd804913ace38b5e4427cec6"
     }
    },
    "84c25a02ef7f41eb8b6b8e9e184e0c5a": {
     "model_module": "@jupyter-widgets/controls",
     "model_name": "FloatProgressModel",
     "state": {
      "_dom_classes": [],
      "_model_module": "@jupyter-widgets/controls",
      "_model_module_version": "1.5.0",
      "_model_name": "FloatProgressModel",
      "_view_count": null,
      "_view_module": "@jupyter-widgets/controls",
      "_view_module_version": "1.5.0",
      "_view_name": "ProgressView",
      "bar_style": "success",
      "description": "100%",
      "description_tooltip": null,
      "layout": "IPY_MODEL_3f8cfbeca5d4499cbfbd8140c34c3e65",
      "max": 20,
      "min": 0,
      "orientation": "horizontal",
      "style": "IPY_MODEL_cf34df9365cb4f0594be9c913cd30129",
      "value": 20
     }
    },
    "87d549ea359e421ab5011c7f47c5d3fb": {
     "model_module": "@jupyter-widgets/controls",
     "model_name": "FloatProgressModel",
     "state": {
      "_dom_classes": [],
      "_model_module": "@jupyter-widgets/controls",
      "_model_module_version": "1.5.0",
      "_model_name": "FloatProgressModel",
      "_view_count": null,
      "_view_module": "@jupyter-widgets/controls",
      "_view_module_version": "1.5.0",
      "_view_name": "ProgressView",
      "bar_style": "success",
      "description": "100%",
      "description_tooltip": null,
      "layout": "IPY_MODEL_c2f8fee45fe14b11a982da9261d40540",
      "max": 20,
      "min": 0,
      "orientation": "horizontal",
      "style": "IPY_MODEL_59a19e3198e14c8ea7c25ffdd4084934",
      "value": 20
     }
    },
    "8a5cb44cbfee4395b84e324fc7c9cfaa": {
     "model_module": "@jupyter-widgets/controls",
     "model_name": "HTMLModel",
     "state": {
      "_dom_classes": [],
      "_model_module": "@jupyter-widgets/controls",
      "_model_module_version": "1.5.0",
      "_model_name": "HTMLModel",
      "_view_count": null,
      "_view_module": "@jupyter-widgets/controls",
      "_view_module_version": "1.5.0",
      "_view_name": "HTMLView",
      "description": "",
      "description_tooltip": null,
      "layout": "IPY_MODEL_615571d279a046fa8ac79fd750ddcce7",
      "placeholder": "​",
      "style": "IPY_MODEL_133492698a324176ad278766b25a0977",
      "value": " 20/20 [00:29&lt;00:00,  1.47s/it]"
     }
    },
    "8dfd1baa9dca4e7f8bdfcc0a4b8910a9": {
     "model_module": "@jupyter-widgets/base",
     "model_name": "LayoutModel",
     "state": {
      "_model_module": "@jupyter-widgets/base",
      "_model_module_version": "1.2.0",
      "_model_name": "LayoutModel",
      "_view_count": null,
      "_view_module": "@jupyter-widgets/base",
      "_view_module_version": "1.2.0",
      "_view_name": "LayoutView",
      "align_content": null,
      "align_items": null,
      "align_self": null,
      "border": null,
      "bottom": null,
      "display": null,
      "flex": null,
      "flex_flow": null,
      "grid_area": null,
      "grid_auto_columns": null,
      "grid_auto_flow": null,
      "grid_auto_rows": null,
      "grid_column": null,
      "grid_gap": null,
      "grid_row": null,
      "grid_template_areas": null,
      "grid_template_columns": null,
      "grid_template_rows": null,
      "height": null,
      "justify_content": null,
      "justify_items": null,
      "left": null,
      "margin": null,
      "max_height": null,
      "max_width": null,
      "min_height": null,
      "min_width": null,
      "object_fit": null,
      "object_position": null,
      "order": null,
      "overflow": null,
      "overflow_x": null,
      "overflow_y": null,
      "padding": null,
      "right": null,
      "top": null,
      "visibility": null,
      "width": null
     }
    },
    "918871974de14b3995499367da1b94bc": {
     "model_module": "@jupyter-widgets/base",
     "model_name": "LayoutModel",
     "state": {
      "_model_module": "@jupyter-widgets/base",
      "_model_module_version": "1.2.0",
      "_model_name": "LayoutModel",
      "_view_count": null,
      "_view_module": "@jupyter-widgets/base",
      "_view_module_version": "1.2.0",
      "_view_name": "LayoutView",
      "align_content": null,
      "align_items": null,
      "align_self": null,
      "border": null,
      "bottom": null,
      "display": null,
      "flex": null,
      "flex_flow": null,
      "grid_area": null,
      "grid_auto_columns": null,
      "grid_auto_flow": null,
      "grid_auto_rows": null,
      "grid_column": null,
      "grid_gap": null,
      "grid_row": null,
      "grid_template_areas": null,
      "grid_template_columns": null,
      "grid_template_rows": null,
      "height": null,
      "justify_content": null,
      "justify_items": null,
      "left": null,
      "margin": null,
      "max_height": null,
      "max_width": null,
      "min_height": null,
      "min_width": null,
      "object_fit": null,
      "object_position": null,
      "order": null,
      "overflow": null,
      "overflow_x": null,
      "overflow_y": null,
      "padding": null,
      "right": null,
      "top": null,
      "visibility": null,
      "width": null
     }
    },
    "949a686d76fe4670b8f5d206daec0a8d": {
     "model_module": "@jupyter-widgets/controls",
     "model_name": "HTMLModel",
     "state": {
      "_dom_classes": [],
      "_model_module": "@jupyter-widgets/controls",
      "_model_module_version": "1.5.0",
      "_model_name": "HTMLModel",
      "_view_count": null,
      "_view_module": "@jupyter-widgets/controls",
      "_view_module_version": "1.5.0",
      "_view_name": "HTMLView",
      "description": "",
      "description_tooltip": null,
      "layout": "IPY_MODEL_ad5493001bbe45af811a1c85cb11ead7",
      "placeholder": "​",
      "style": "IPY_MODEL_14574d0aad8b40efad49395ca3fad5d3",
      "value": " 20/20 [00:11&lt;00:00,  1.82it/s]"
     }
    },
    "9883d6bf319a4fb3b8142848be54b2a4": {
     "model_module": "@jupyter-widgets/controls",
     "model_name": "HBoxModel",
     "state": {
      "_dom_classes": [],
      "_model_module": "@jupyter-widgets/controls",
      "_model_module_version": "1.5.0",
      "_model_name": "HBoxModel",
      "_view_count": null,
      "_view_module": "@jupyter-widgets/controls",
      "_view_module_version": "1.5.0",
      "_view_name": "HBoxView",
      "box_style": "",
      "children": [
       "IPY_MODEL_84c25a02ef7f41eb8b6b8e9e184e0c5a",
       "IPY_MODEL_dd791a50624040acae174858be6d27cb"
      ],
      "layout": "IPY_MODEL_04928e232d764457bffb54c03e8b66bc"
     }
    },
    "a513d86a85fe4fec8ca7526a5324da5a": {
     "model_module": "@jupyter-widgets/controls",
     "model_name": "HBoxModel",
     "state": {
      "_dom_classes": [],
      "_model_module": "@jupyter-widgets/controls",
      "_model_module_version": "1.5.0",
      "_model_name": "HBoxModel",
      "_view_count": null,
      "_view_module": "@jupyter-widgets/controls",
      "_view_module_version": "1.5.0",
      "_view_name": "HBoxView",
      "box_style": "",
      "children": [
       "IPY_MODEL_07d4c40312f14a9b8553807437a5622f",
       "IPY_MODEL_8a5cb44cbfee4395b84e324fc7c9cfaa"
      ],
      "layout": "IPY_MODEL_cf5756ed2e7f4fa49585a70d0e241443"
     }
    },
    "a55b421648564df0880f5d0ddc7df74f": {
     "model_module": "@jupyter-widgets/controls",
     "model_name": "HTMLModel",
     "state": {
      "_dom_classes": [],
      "_model_module": "@jupyter-widgets/controls",
      "_model_module_version": "1.5.0",
      "_model_name": "HTMLModel",
      "_view_count": null,
      "_view_module": "@jupyter-widgets/controls",
      "_view_module_version": "1.5.0",
      "_view_name": "HTMLView",
      "description": "",
      "description_tooltip": null,
      "layout": "IPY_MODEL_918871974de14b3995499367da1b94bc",
      "placeholder": "​",
      "style": "IPY_MODEL_51f4c24fd82f4fb9a94db95cac97488a",
      "value": " 4682/? [10:13&lt;00:00,  7.63it/s]"
     }
    },
    "a6d1c7390ee94871acbb7c4a15563c16": {
     "model_module": "@jupyter-widgets/base",
     "model_name": "LayoutModel",
     "state": {
      "_model_module": "@jupyter-widgets/base",
      "_model_module_version": "1.2.0",
      "_model_name": "LayoutModel",
      "_view_count": null,
      "_view_module": "@jupyter-widgets/base",
      "_view_module_version": "1.2.0",
      "_view_name": "LayoutView",
      "align_content": null,
      "align_items": null,
      "align_self": null,
      "border": null,
      "bottom": null,
      "display": null,
      "flex": null,
      "flex_flow": null,
      "grid_area": null,
      "grid_auto_columns": null,
      "grid_auto_flow": null,
      "grid_auto_rows": null,
      "grid_column": null,
      "grid_gap": null,
      "grid_row": null,
      "grid_template_areas": null,
      "grid_template_columns": null,
      "grid_template_rows": null,
      "height": null,
      "justify_content": null,
      "justify_items": null,
      "left": null,
      "margin": null,
      "max_height": null,
      "max_width": null,
      "min_height": null,
      "min_width": null,
      "object_fit": null,
      "object_position": null,
      "order": null,
      "overflow": null,
      "overflow_x": null,
      "overflow_y": null,
      "padding": null,
      "right": null,
      "top": null,
      "visibility": null,
      "width": null
     }
    },
    "a8898f8714924f08925a1ba8cda7b1e8": {
     "model_module": "@jupyter-widgets/base",
     "model_name": "LayoutModel",
     "state": {
      "_model_module": "@jupyter-widgets/base",
      "_model_module_version": "1.2.0",
      "_model_name": "LayoutModel",
      "_view_count": null,
      "_view_module": "@jupyter-widgets/base",
      "_view_module_version": "1.2.0",
      "_view_name": "LayoutView",
      "align_content": null,
      "align_items": null,
      "align_self": null,
      "border": null,
      "bottom": null,
      "display": null,
      "flex": null,
      "flex_flow": null,
      "grid_area": null,
      "grid_auto_columns": null,
      "grid_auto_flow": null,
      "grid_auto_rows": null,
      "grid_column": null,
      "grid_gap": null,
      "grid_row": null,
      "grid_template_areas": null,
      "grid_template_columns": null,
      "grid_template_rows": null,
      "height": null,
      "justify_content": null,
      "justify_items": null,
      "left": null,
      "margin": null,
      "max_height": null,
      "max_width": null,
      "min_height": null,
      "min_width": null,
      "object_fit": null,
      "object_position": null,
      "order": null,
      "overflow": null,
      "overflow_x": null,
      "overflow_y": null,
      "padding": null,
      "right": null,
      "top": null,
      "visibility": null,
      "width": null
     }
    },
    "ad5493001bbe45af811a1c85cb11ead7": {
     "model_module": "@jupyter-widgets/base",
     "model_name": "LayoutModel",
     "state": {
      "_model_module": "@jupyter-widgets/base",
      "_model_module_version": "1.2.0",
      "_model_name": "LayoutModel",
      "_view_count": null,
      "_view_module": "@jupyter-widgets/base",
      "_view_module_version": "1.2.0",
      "_view_name": "LayoutView",
      "align_content": null,
      "align_items": null,
      "align_self": null,
      "border": null,
      "bottom": null,
      "display": null,
      "flex": null,
      "flex_flow": null,
      "grid_area": null,
      "grid_auto_columns": null,
      "grid_auto_flow": null,
      "grid_auto_rows": null,
      "grid_column": null,
      "grid_gap": null,
      "grid_row": null,
      "grid_template_areas": null,
      "grid_template_columns": null,
      "grid_template_rows": null,
      "height": null,
      "justify_content": null,
      "justify_items": null,
      "left": null,
      "margin": null,
      "max_height": null,
      "max_width": null,
      "min_height": null,
      "min_width": null,
      "object_fit": null,
      "object_position": null,
      "order": null,
      "overflow": null,
      "overflow_x": null,
      "overflow_y": null,
      "padding": null,
      "right": null,
      "top": null,
      "visibility": null,
      "width": null
     }
    },
    "ae9d12bd80614b7a9a7a0cd6c91f7dba": {
     "model_module": "@jupyter-widgets/controls",
     "model_name": "HBoxModel",
     "state": {
      "_dom_classes": [],
      "_model_module": "@jupyter-widgets/controls",
      "_model_module_version": "1.5.0",
      "_model_name": "HBoxModel",
      "_view_count": null,
      "_view_module": "@jupyter-widgets/controls",
      "_view_module_version": "1.5.0",
      "_view_name": "HBoxView",
      "box_style": "",
      "children": [
       "IPY_MODEL_87d549ea359e421ab5011c7f47c5d3fb",
       "IPY_MODEL_949a686d76fe4670b8f5d206daec0a8d"
      ],
      "layout": "IPY_MODEL_a8898f8714924f08925a1ba8cda7b1e8"
     }
    },
    "bb9829636fa5451da52600f6f559f875": {
     "model_module": "@jupyter-widgets/base",
     "model_name": "LayoutModel",
     "state": {
      "_model_module": "@jupyter-widgets/base",
      "_model_module_version": "1.2.0",
      "_model_name": "LayoutModel",
      "_view_count": null,
      "_view_module": "@jupyter-widgets/base",
      "_view_module_version": "1.2.0",
      "_view_name": "LayoutView",
      "align_content": null,
      "align_items": null,
      "align_self": null,
      "border": null,
      "bottom": null,
      "display": null,
      "flex": null,
      "flex_flow": null,
      "grid_area": null,
      "grid_auto_columns": null,
      "grid_auto_flow": null,
      "grid_auto_rows": null,
      "grid_column": null,
      "grid_gap": null,
      "grid_row": null,
      "grid_template_areas": null,
      "grid_template_columns": null,
      "grid_template_rows": null,
      "height": null,
      "justify_content": null,
      "justify_items": null,
      "left": null,
      "margin": null,
      "max_height": null,
      "max_width": null,
      "min_height": null,
      "min_width": null,
      "object_fit": null,
      "object_position": null,
      "order": null,
      "overflow": null,
      "overflow_x": null,
      "overflow_y": null,
      "padding": null,
      "right": null,
      "top": null,
      "visibility": null,
      "width": null
     }
    },
    "bc904ff8ac26412f91e50868e18349ae": {
     "model_module": "@jupyter-widgets/base",
     "model_name": "LayoutModel",
     "state": {
      "_model_module": "@jupyter-widgets/base",
      "_model_module_version": "1.2.0",
      "_model_name": "LayoutModel",
      "_view_count": null,
      "_view_module": "@jupyter-widgets/base",
      "_view_module_version": "1.2.0",
      "_view_name": "LayoutView",
      "align_content": null,
      "align_items": null,
      "align_self": null,
      "border": null,
      "bottom": null,
      "display": null,
      "flex": null,
      "flex_flow": null,
      "grid_area": null,
      "grid_auto_columns": null,
      "grid_auto_flow": null,
      "grid_auto_rows": null,
      "grid_column": null,
      "grid_gap": null,
      "grid_row": null,
      "grid_template_areas": null,
      "grid_template_columns": null,
      "grid_template_rows": null,
      "height": null,
      "justify_content": null,
      "justify_items": null,
      "left": null,
      "margin": null,
      "max_height": null,
      "max_width": null,
      "min_height": null,
      "min_width": null,
      "object_fit": null,
      "object_position": null,
      "order": null,
      "overflow": null,
      "overflow_x": null,
      "overflow_y": null,
      "padding": null,
      "right": null,
      "top": null,
      "visibility": null,
      "width": null
     }
    },
    "c2f8fee45fe14b11a982da9261d40540": {
     "model_module": "@jupyter-widgets/base",
     "model_name": "LayoutModel",
     "state": {
      "_model_module": "@jupyter-widgets/base",
      "_model_module_version": "1.2.0",
      "_model_name": "LayoutModel",
      "_view_count": null,
      "_view_module": "@jupyter-widgets/base",
      "_view_module_version": "1.2.0",
      "_view_name": "LayoutView",
      "align_content": null,
      "align_items": null,
      "align_self": null,
      "border": null,
      "bottom": null,
      "display": null,
      "flex": null,
      "flex_flow": null,
      "grid_area": null,
      "grid_auto_columns": null,
      "grid_auto_flow": null,
      "grid_auto_rows": null,
      "grid_column": null,
      "grid_gap": null,
      "grid_row": null,
      "grid_template_areas": null,
      "grid_template_columns": null,
      "grid_template_rows": null,
      "height": null,
      "justify_content": null,
      "justify_items": null,
      "left": null,
      "margin": null,
      "max_height": null,
      "max_width": null,
      "min_height": null,
      "min_width": null,
      "object_fit": null,
      "object_position": null,
      "order": null,
      "overflow": null,
      "overflow_x": null,
      "overflow_y": null,
      "padding": null,
      "right": null,
      "top": null,
      "visibility": null,
      "width": null
     }
    },
    "cf34df9365cb4f0594be9c913cd30129": {
     "model_module": "@jupyter-widgets/controls",
     "model_name": "ProgressStyleModel",
     "state": {
      "_model_module": "@jupyter-widgets/controls",
      "_model_module_version": "1.5.0",
      "_model_name": "ProgressStyleModel",
      "_view_count": null,
      "_view_module": "@jupyter-widgets/base",
      "_view_module_version": "1.2.0",
      "_view_name": "StyleView",
      "bar_color": null,
      "description_width": "initial"
     }
    },
    "cf5756ed2e7f4fa49585a70d0e241443": {
     "model_module": "@jupyter-widgets/base",
     "model_name": "LayoutModel",
     "state": {
      "_model_module": "@jupyter-widgets/base",
      "_model_module_version": "1.2.0",
      "_model_name": "LayoutModel",
      "_view_count": null,
      "_view_module": "@jupyter-widgets/base",
      "_view_module_version": "1.2.0",
      "_view_name": "LayoutView",
      "align_content": null,
      "align_items": null,
      "align_self": null,
      "border": null,
      "bottom": null,
      "display": null,
      "flex": null,
      "flex_flow": null,
      "grid_area": null,
      "grid_auto_columns": null,
      "grid_auto_flow": null,
      "grid_auto_rows": null,
      "grid_column": null,
      "grid_gap": null,
      "grid_row": null,
      "grid_template_areas": null,
      "grid_template_columns": null,
      "grid_template_rows": null,
      "height": null,
      "justify_content": null,
      "justify_items": null,
      "left": null,
      "margin": null,
      "max_height": null,
      "max_width": null,
      "min_height": null,
      "min_width": null,
      "object_fit": null,
      "object_position": null,
      "order": null,
      "overflow": null,
      "overflow_x": null,
      "overflow_y": null,
      "padding": null,
      "right": null,
      "top": null,
      "visibility": null,
      "width": null
     }
    },
    "dd791a50624040acae174858be6d27cb": {
     "model_module": "@jupyter-widgets/controls",
     "model_name": "HTMLModel",
     "state": {
      "_dom_classes": [],
      "_model_module": "@jupyter-widgets/controls",
      "_model_module_version": "1.5.0",
      "_model_name": "HTMLModel",
      "_view_count": null,
      "_view_module": "@jupyter-widgets/controls",
      "_view_module_version": "1.5.0",
      "_view_name": "HTMLView",
      "description": "",
      "description_tooltip": null,
      "layout": "IPY_MODEL_5d9a7396f63a410d8e4ec3f8abfa576f",
      "placeholder": "​",
      "style": "IPY_MODEL_df1c5275d0cc4ac8b598cd2dd9036b4d",
      "value": " 20/20 [01:39&lt;00:00,  4.98s/it]"
     }
    },
    "df1c5275d0cc4ac8b598cd2dd9036b4d": {
     "model_module": "@jupyter-widgets/controls",
     "model_name": "DescriptionStyleModel",
     "state": {
      "_model_module": "@jupyter-widgets/controls",
      "_model_module_version": "1.5.0",
      "_model_name": "DescriptionStyleModel",
      "_view_count": null,
      "_view_module": "@jupyter-widgets/base",
      "_view_module_version": "1.2.0",
      "_view_name": "StyleView",
      "description_width": ""
     }
    },
    "e1d50447275f4ce2b93a3495cd3c2854": {
     "model_module": "@jupyter-widgets/controls",
     "model_name": "ProgressStyleModel",
     "state": {
      "_model_module": "@jupyter-widgets/controls",
      "_model_module_version": "1.5.0",
      "_model_name": "ProgressStyleModel",
      "_view_count": null,
      "_view_module": "@jupyter-widgets/base",
      "_view_module_version": "1.2.0",
      "_view_name": "StyleView",
      "bar_color": null,
      "description_width": "initial"
     }
    },
    "e6ab815f59304e33b959f1c643e1d2c6": {
     "model_module": "@jupyter-widgets/controls",
     "model_name": "FloatProgressModel",
     "state": {
      "_dom_classes": [],
      "_model_module": "@jupyter-widgets/controls",
      "_model_module_version": "1.5.0",
      "_model_name": "FloatProgressModel",
      "_view_count": null,
      "_view_module": "@jupyter-widgets/controls",
      "_view_module_version": "1.5.0",
      "_view_name": "ProgressView",
      "bar_style": "success",
      "description": "100%",
      "description_tooltip": null,
      "layout": "IPY_MODEL_6a43e253cb5248759166a1cf6cc77926",
      "max": 20,
      "min": 0,
      "orientation": "horizontal",
      "style": "IPY_MODEL_20c54577e5d14562bc26e7578fa3f5b0",
      "value": 20
     }
    },
    "f123632855224e7695f6b9cecd4cba98": {
     "model_module": "@jupyter-widgets/controls",
     "model_name": "HBoxModel",
     "state": {
      "_dom_classes": [],
      "_model_module": "@jupyter-widgets/controls",
      "_model_module_version": "1.5.0",
      "_model_name": "HBoxModel",
      "_view_count": null,
      "_view_module": "@jupyter-widgets/controls",
      "_view_module_version": "1.5.0",
      "_view_name": "HBoxView",
      "box_style": "",
      "children": [
       "IPY_MODEL_0eb8545a92f34477b2c4517b8fbce54f",
       "IPY_MODEL_a55b421648564df0880f5d0ddc7df74f"
      ],
      "layout": "IPY_MODEL_a6d1c7390ee94871acbb7c4a15563c16"
     }
    }
   }
  }
 },
 "nbformat": 4,
 "nbformat_minor": 1
}
