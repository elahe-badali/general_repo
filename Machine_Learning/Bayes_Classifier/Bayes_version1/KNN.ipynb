{
 "cells": [
  {
   "cell_type": "code",
   "execution_count": 7,
   "id": "ac12f31a",
   "metadata": {},
   "outputs": [],
   "source": [
    "# imports\n",
    "import numpy as np\n",
    "import pandas as pd\n",
    "from collections import Counter"
   ]
  },
  {
   "cell_type": "code",
   "execution_count": 8,
   "id": "8300041a",
   "metadata": {},
   "outputs": [],
   "source": [
    "# Reading datasets\n",
    "main_train = pd.read_csv(\"training_set.csv\")\n",
    "test_dataset = pd.read_csv(\"test_set.csv\")\n",
    "\n",
    "main_X_train = main_train.values[:,:-1]\n",
    "main_y_train = main_train.values[:,-1]\n",
    "\n",
    "train_dataset = main_train[:800]\n",
    "val_dataset = main_train[800:]\n",
    "\n",
    "X_train = train_dataset.values[:,:-1]\n",
    "y_train = train_dataset.values[:,-1]\n",
    "\n",
    "X_val = val_dataset.values[:,:-1]\n",
    "y_val = val_dataset.values[:,-1]\n",
    "\n",
    "X_test = test_dataset.values "
   ]
  },
  {
   "cell_type": "code",
   "execution_count": 9,
   "id": "7344e5ce",
   "metadata": {},
   "outputs": [],
   "source": [
    "def euclidean_distance(x1 , x2):\n",
    "    return np.sqrt(np.sum(x1 - x2)**2)\n",
    "\n",
    "class KNN:\n",
    "    def __init__(self , k):\n",
    "        self.k = k\n",
    "    \n",
    "    def fit(self , X , y):\n",
    "        self.X_train = X\n",
    "        self.y_train = y\n",
    "        \n",
    "    def predict(self , X):\n",
    "        predicted_labels = [self._predict(x) for x in X]\n",
    "        return np.array(predicted_labels)\n",
    "    def _predict(self , x):\n",
    "        \n",
    "        # compute distance\n",
    "        distance = [euclidean_distance(x , x_train) for x_train in self.X_train]\n",
    "        \n",
    "        # get k nearest samples\n",
    "        k_index = np.argsort(distance)[:self.k]\n",
    "        k_nearst_labels = [self.y_train[i] for i in k_index ]\n",
    "        # majority vote\n",
    "        \n",
    "        most_common = Counter(k_nearst_labels).most_common(1)\n",
    "        return most_common[0][0]"
   ]
  },
  {
   "cell_type": "markdown",
   "id": "7ce09052",
   "metadata": {},
   "source": [
    "# Validation"
   ]
  },
  {
   "cell_type": "code",
   "execution_count": 10,
   "id": "75662667",
   "metadata": {},
   "outputs": [
    {
     "name": "stdout",
     "output_type": "stream",
     "text": [
      "0.845\n"
     ]
    }
   ],
   "source": [
    "classifier = KNN(k = 100)\n",
    "classifier.fit(X_train , y_train)\n",
    "\n",
    "Y_pred = classifier.predict(X_val)\n",
    "\n",
    "acc = np.sum(Y_pred == y_val)/len(y_val)\n",
    "print(acc)"
   ]
  },
  {
   "cell_type": "markdown",
   "id": "a01d39e2",
   "metadata": {},
   "source": [
    "# Test"
   ]
  },
  {
   "cell_type": "code",
   "execution_count": 11,
   "id": "243a2a36",
   "metadata": {},
   "outputs": [
    {
     "data": {
      "text/plain": [
       "array([-1,  1,  1,  1, -1, -1, -1,  1,  1,  1,  1,  1, -1, -1, -1, -1, -1,\n",
       "        1, -1,  1, -1, -1, -1,  1,  1, -1, -1,  1, -1,  1, -1, -1, -1,  1,\n",
       "        1, -1, -1, -1,  1,  1,  1, -1,  1,  1, -1,  1, -1, -1,  1,  1,  1,\n",
       "        1, -1, -1, -1,  1, -1, -1, -1, -1, -1,  1, -1,  1,  1, -1, -1,  1,\n",
       "        1, -1,  1,  1,  1, -1, -1, -1, -1, -1,  1, -1,  1, -1, -1,  1, -1,\n",
       "       -1,  1, -1, -1, -1, -1,  1,  1, -1, -1, -1, -1,  1, -1, -1,  1,  1,\n",
       "       -1,  1, -1, -1,  1, -1, -1,  1,  1,  1, -1,  1, -1,  1, -1, -1, -1,\n",
       "        1, -1,  1,  1,  1, -1,  1, -1, -1, -1,  1, -1, -1, -1, -1, -1, -1,\n",
       "        1,  1,  1, -1, -1,  1,  1,  1,  1,  1, -1,  1, -1, -1, -1, -1,  1,\n",
       "        1, -1,  1, -1,  1,  1, -1,  1, -1, -1,  1,  1,  1, -1,  1,  1,  1,\n",
       "       -1, -1,  1,  1, -1, -1, -1, -1, -1, -1,  1,  1,  1,  1, -1, -1, -1,\n",
       "       -1, -1,  1,  1, -1,  1,  1,  1,  1, -1, -1,  1,  1,  1,  1, -1, -1,\n",
       "       -1,  1,  1, -1,  1, -1, -1, -1,  1,  1,  1, -1, -1, -1, -1,  1, -1,\n",
       "        1, -1, -1, -1,  1,  1,  1,  1,  1, -1, -1, -1, -1, -1, -1, -1,  1,\n",
       "       -1, -1, -1,  1, -1,  1, -1, -1,  1, -1,  1,  1])"
      ]
     },
     "execution_count": 11,
     "metadata": {},
     "output_type": "execute_result"
    }
   ],
   "source": [
    "classifier = KNN(k = 100)\n",
    "classifier.fit(main_X_train , main_y_train)\n",
    "\n",
    "Y_pred = classifier.predict(X_test)\n",
    "\n",
    "Y_pred = np.where(Y_pred == 0 , -1 , 1)\n",
    "Y_pred"
   ]
  },
  {
   "cell_type": "code",
   "execution_count": 12,
   "id": "b9491e0f",
   "metadata": {},
   "outputs": [],
   "source": [
    "pd.DataFrame(Y_pred).to_csv(\"3.csv\" , index=None)"
   ]
  },
  {
   "cell_type": "code",
   "execution_count": 14,
   "id": "1e45e378",
   "metadata": {},
   "outputs": [
    {
     "data": {
      "text/html": [
       "<div>\n",
       "<style scoped>\n",
       "    .dataframe tbody tr th:only-of-type {\n",
       "        vertical-align: middle;\n",
       "    }\n",
       "\n",
       "    .dataframe tbody tr th {\n",
       "        vertical-align: top;\n",
       "    }\n",
       "\n",
       "    .dataframe thead th {\n",
       "        text-align: right;\n",
       "    }\n",
       "</style>\n",
       "<table border=\"1\" class=\"dataframe\">\n",
       "  <thead>\n",
       "    <tr style=\"text-align: right;\">\n",
       "      <th></th>\n",
       "      <th>0</th>\n",
       "    </tr>\n",
       "  </thead>\n",
       "  <tbody>\n",
       "    <tr>\n",
       "      <th>0</th>\n",
       "      <td>-1</td>\n",
       "    </tr>\n",
       "    <tr>\n",
       "      <th>1</th>\n",
       "      <td>1</td>\n",
       "    </tr>\n",
       "    <tr>\n",
       "      <th>2</th>\n",
       "      <td>1</td>\n",
       "    </tr>\n",
       "    <tr>\n",
       "      <th>3</th>\n",
       "      <td>1</td>\n",
       "    </tr>\n",
       "    <tr>\n",
       "      <th>4</th>\n",
       "      <td>-1</td>\n",
       "    </tr>\n",
       "    <tr>\n",
       "      <th>...</th>\n",
       "      <td>...</td>\n",
       "    </tr>\n",
       "    <tr>\n",
       "      <th>245</th>\n",
       "      <td>-1</td>\n",
       "    </tr>\n",
       "    <tr>\n",
       "      <th>246</th>\n",
       "      <td>1</td>\n",
       "    </tr>\n",
       "    <tr>\n",
       "      <th>247</th>\n",
       "      <td>-1</td>\n",
       "    </tr>\n",
       "    <tr>\n",
       "      <th>248</th>\n",
       "      <td>1</td>\n",
       "    </tr>\n",
       "    <tr>\n",
       "      <th>249</th>\n",
       "      <td>1</td>\n",
       "    </tr>\n",
       "  </tbody>\n",
       "</table>\n",
       "<p>250 rows × 1 columns</p>\n",
       "</div>"
      ],
      "text/plain": [
       "     0\n",
       "0   -1\n",
       "1    1\n",
       "2    1\n",
       "3    1\n",
       "4   -1\n",
       "..  ..\n",
       "245 -1\n",
       "246  1\n",
       "247 -1\n",
       "248  1\n",
       "249  1\n",
       "\n",
       "[250 rows x 1 columns]"
      ]
     },
     "execution_count": 14,
     "metadata": {},
     "output_type": "execute_result"
    }
   ],
   "source": [
    "pd.read_csv(\"3.csv\")"
   ]
  },
  {
   "cell_type": "code",
   "execution_count": null,
   "id": "1270fa92",
   "metadata": {},
   "outputs": [],
   "source": []
  }
 ],
 "metadata": {
  "kernelspec": {
   "display_name": "Python 3 (ipykernel)",
   "language": "python",
   "name": "python3"
  },
  "language_info": {
   "codemirror_mode": {
    "name": "ipython",
    "version": 3
   },
   "file_extension": ".py",
   "mimetype": "text/x-python",
   "name": "python",
   "nbconvert_exporter": "python",
   "pygments_lexer": "ipython3",
   "version": "3.9.7"
  }
 },
 "nbformat": 4,
 "nbformat_minor": 5
}
