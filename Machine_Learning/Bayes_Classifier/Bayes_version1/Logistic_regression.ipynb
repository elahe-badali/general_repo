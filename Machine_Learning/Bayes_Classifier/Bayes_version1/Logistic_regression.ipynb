{
 "cells": [
  {
   "cell_type": "code",
   "execution_count": 9,
   "id": "6fa585aa",
   "metadata": {},
   "outputs": [],
   "source": [
    "# imports\n",
    "import numpy as np\n",
    "import pandas as pd"
   ]
  },
  {
   "cell_type": "code",
   "execution_count": 10,
   "id": "04203498",
   "metadata": {},
   "outputs": [],
   "source": [
    "# Reading datasets\n",
    "main_train = pd.read_csv(\"training_set.csv\")\n",
    "test_dataset = pd.read_csv(\"test_set.csv\")\n",
    "\n",
    "main_X_train = main_train.values[:,:-1]\n",
    "main_y_train = main_train.values[:,-1]\n",
    "\n",
    "train_dataset = main_train[:800]\n",
    "val_dataset = main_train[800:]\n",
    "\n",
    "X_train = train_dataset.values[:,:-1]\n",
    "y_train = train_dataset.values[:,-1]\n",
    "\n",
    "X_val = val_dataset.values[:,:-1]\n",
    "y_val = val_dataset.values[:,-1]\n",
    "\n",
    "X_test = test_dataset.values "
   ]
  },
  {
   "cell_type": "code",
   "execution_count": 11,
   "id": "919a26f4",
   "metadata": {},
   "outputs": [],
   "source": [
    "class LogisticRegression:\n",
    "    def __init__(self,x,y):      \n",
    "        self.intercept = np.ones((x.shape[0], 1))  \n",
    "        self.x = np.concatenate((self.intercept, x), axis=1)\n",
    "        self.weight = np.zeros(self.x.shape[1])\n",
    "        self.y = y\n",
    "         \n",
    "    #Sigmoid method\n",
    "    def sigmoid(self, x, weight):\n",
    "        z = np.dot(x, weight)\n",
    "        return 1 / (1 + np.exp(-z))\n",
    "     \n",
    "    #method to calculate the Loss\n",
    "    def loss(self, h, y):\n",
    "        return (-y * np.log(h) - (1 - y) * np.log(1 - h)).mean()\n",
    "     \n",
    "    #Method for calculating the gradients\n",
    "    def gradient_descent(self, X, h, y):\n",
    "        return np.dot(X.T, (h - y)) / y.shape[0]\n",
    " \n",
    "     \n",
    "    def fit(self, lr , iterations):\n",
    "        for i in range(iterations):\n",
    "            sigma = self.sigmoid(self.x, self.weight)\n",
    "             \n",
    "            loss = self.loss(sigma,self.y)\n",
    " \n",
    "            dW = self.gradient_descent(self.x , sigma, self.y)\n",
    "             \n",
    "            #Updating the weights\n",
    "            self.weight -= lr * dW\n",
    " \n",
    "        return print('fitted successfully to data')\n",
    "     \n",
    "    #Method to predict the class label.\n",
    "    def predict(self, x_new , treshold):\n",
    "        self.intercept = np.ones((x_new.shape[0], 1))  \n",
    "\n",
    "        x_new = np.concatenate((self.intercept, x_new), axis=1)\n",
    "        result = self.sigmoid(x_new, self.weight)\n",
    "        result = result >= treshold\n",
    "        y_pred = np.zeros(result.shape[0])\n",
    "        for i in range(len(y_pred)):\n",
    "            if result[i] == True: \n",
    "                y_pred[i] = 1\n",
    "            else:\n",
    "                continue\n",
    "                 \n",
    "        return y_pred\n",
    "            "
   ]
  },
  {
   "cell_type": "markdown",
   "id": "5dfc1b01",
   "metadata": {},
   "source": [
    "# Validation"
   ]
  },
  {
   "cell_type": "code",
   "execution_count": 12,
   "id": "25926f2f",
   "metadata": {},
   "outputs": [
    {
     "name": "stdout",
     "output_type": "stream",
     "text": [
      "fitted successfully to data\n",
      "0.705\n"
     ]
    }
   ],
   "source": [
    "classifier = LogisticRegression(X_train , y_train)\n",
    "classifier.fit(lr = 1e-3 , iterations = 100)\n",
    "Y_pred = classifier.predict(X_val , treshold = 0.5 )\n",
    "acc = np.sum(Y_pred == y_val)/len(y_val)\n",
    "print(acc)"
   ]
  },
  {
   "cell_type": "markdown",
   "id": "c8522cc3",
   "metadata": {},
   "source": [
    "# Test"
   ]
  },
  {
   "cell_type": "code",
   "execution_count": 13,
   "id": "07c7442f",
   "metadata": {},
   "outputs": [
    {
     "name": "stdout",
     "output_type": "stream",
     "text": [
      "fitted successfully to data\n"
     ]
    },
    {
     "data": {
      "text/plain": [
       "array([-1,  1, -1, -1, -1, -1, -1, -1,  1,  1,  1,  1, -1, -1, -1, -1, -1,\n",
       "       -1, -1, -1, -1, -1, -1, -1,  1, -1, -1,  1, -1,  1, -1, -1, -1,  1,\n",
       "        1, -1, -1, -1, -1,  1,  1, -1, -1, -1, -1, -1, -1, -1, -1, -1, -1,\n",
       "        1, -1, -1, -1,  1, -1, -1, -1, -1, -1,  1, -1, -1,  1, -1, -1, -1,\n",
       "        1, -1, -1, -1, -1, -1, -1, -1, -1, -1, -1, -1, -1, -1, -1, -1, -1,\n",
       "       -1, -1, -1, -1, -1, -1, -1, -1, -1, -1, -1, -1,  1, -1, -1,  1,  1,\n",
       "       -1,  1, -1, -1, -1, -1, -1,  1, -1,  1, -1,  1, -1, -1, -1, -1, -1,\n",
       "       -1, -1,  1, -1,  1, -1,  1, -1, -1, -1,  1, -1, -1, -1, -1, -1, -1,\n",
       "       -1,  1,  1, -1, -1,  1, -1, -1, -1,  1, -1,  1, -1, -1, -1, -1, -1,\n",
       "       -1, -1,  1, -1, -1,  1, -1,  1, -1, -1,  1,  1, -1, -1, -1,  1, -1,\n",
       "       -1, -1, -1, -1, -1, -1, -1, -1, -1, -1, -1,  1, -1,  1, -1, -1, -1,\n",
       "       -1, -1, -1, -1, -1, -1, -1,  1,  1, -1, -1, -1,  1, -1, -1, -1, -1,\n",
       "       -1,  1, -1, -1,  1, -1, -1, -1,  1, -1, -1, -1, -1, -1, -1, -1, -1,\n",
       "       -1, -1, -1, -1,  1,  1, -1, -1, -1, -1, -1, -1, -1, -1, -1, -1,  1,\n",
       "       -1, -1, -1, -1, -1,  1, -1, -1,  1, -1, -1, -1])"
      ]
     },
     "execution_count": 13,
     "metadata": {},
     "output_type": "execute_result"
    }
   ],
   "source": [
    "classifier = LogisticRegression(main_X_train , main_y_train)\n",
    "classifier.fit(lr = 1e-3 , iterations = 100)\n",
    "Y_pred = classifier.predict(X_test , treshold = 0.5 )\n",
    "Y_pred = np.where(Y_pred == 0 , -1 , 1)\n",
    "Y_pred"
   ]
  },
  {
   "cell_type": "code",
   "execution_count": 14,
   "id": "504f65b6",
   "metadata": {},
   "outputs": [],
   "source": [
    "pd.DataFrame(Y_pred).to_csv(\"4.csv\" , index=None)"
   ]
  },
  {
   "cell_type": "code",
   "execution_count": 15,
   "id": "1cda1442",
   "metadata": {},
   "outputs": [
    {
     "data": {
      "text/html": [
       "<div>\n",
       "<style scoped>\n",
       "    .dataframe tbody tr th:only-of-type {\n",
       "        vertical-align: middle;\n",
       "    }\n",
       "\n",
       "    .dataframe tbody tr th {\n",
       "        vertical-align: top;\n",
       "    }\n",
       "\n",
       "    .dataframe thead th {\n",
       "        text-align: right;\n",
       "    }\n",
       "</style>\n",
       "<table border=\"1\" class=\"dataframe\">\n",
       "  <thead>\n",
       "    <tr style=\"text-align: right;\">\n",
       "      <th></th>\n",
       "      <th>0</th>\n",
       "    </tr>\n",
       "  </thead>\n",
       "  <tbody>\n",
       "    <tr>\n",
       "      <th>0</th>\n",
       "      <td>-1</td>\n",
       "    </tr>\n",
       "    <tr>\n",
       "      <th>1</th>\n",
       "      <td>1</td>\n",
       "    </tr>\n",
       "    <tr>\n",
       "      <th>2</th>\n",
       "      <td>-1</td>\n",
       "    </tr>\n",
       "    <tr>\n",
       "      <th>3</th>\n",
       "      <td>-1</td>\n",
       "    </tr>\n",
       "    <tr>\n",
       "      <th>4</th>\n",
       "      <td>-1</td>\n",
       "    </tr>\n",
       "    <tr>\n",
       "      <th>...</th>\n",
       "      <td>...</td>\n",
       "    </tr>\n",
       "    <tr>\n",
       "      <th>245</th>\n",
       "      <td>-1</td>\n",
       "    </tr>\n",
       "    <tr>\n",
       "      <th>246</th>\n",
       "      <td>1</td>\n",
       "    </tr>\n",
       "    <tr>\n",
       "      <th>247</th>\n",
       "      <td>-1</td>\n",
       "    </tr>\n",
       "    <tr>\n",
       "      <th>248</th>\n",
       "      <td>-1</td>\n",
       "    </tr>\n",
       "    <tr>\n",
       "      <th>249</th>\n",
       "      <td>-1</td>\n",
       "    </tr>\n",
       "  </tbody>\n",
       "</table>\n",
       "<p>250 rows × 1 columns</p>\n",
       "</div>"
      ],
      "text/plain": [
       "     0\n",
       "0   -1\n",
       "1    1\n",
       "2   -1\n",
       "3   -1\n",
       "4   -1\n",
       "..  ..\n",
       "245 -1\n",
       "246  1\n",
       "247 -1\n",
       "248 -1\n",
       "249 -1\n",
       "\n",
       "[250 rows x 1 columns]"
      ]
     },
     "execution_count": 15,
     "metadata": {},
     "output_type": "execute_result"
    }
   ],
   "source": [
    "pd.read_csv(\"4.csv\")"
   ]
  },
  {
   "cell_type": "code",
   "execution_count": null,
   "id": "de786e3f",
   "metadata": {},
   "outputs": [],
   "source": []
  }
 ],
 "metadata": {
  "kernelspec": {
   "display_name": "Python 3 (ipykernel)",
   "language": "python",
   "name": "python3"
  },
  "language_info": {
   "codemirror_mode": {
    "name": "ipython",
    "version": 3
   },
   "file_extension": ".py",
   "mimetype": "text/x-python",
   "name": "python",
   "nbconvert_exporter": "python",
   "pygments_lexer": "ipython3",
   "version": "3.9.7"
  }
 },
 "nbformat": 4,
 "nbformat_minor": 5
}
