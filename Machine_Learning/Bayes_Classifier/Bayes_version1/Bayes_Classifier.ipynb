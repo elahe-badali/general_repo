{
 "cells": [
  {
   "cell_type": "code",
   "execution_count": 1,
   "id": "851da92c",
   "metadata": {},
   "outputs": [],
   "source": [
    "# imports\n",
    "import numpy as np\n",
    "import pandas as pd\n",
    "import scipy.stats\n",
    "import matplotlib.pyplot as plt\n",
    "import matplotlib"
   ]
  },
  {
   "cell_type": "code",
   "execution_count": 2,
   "id": "e2cf8f8e",
   "metadata": {},
   "outputs": [],
   "source": [
    "# Reading datasets\n",
    "main_train = pd.read_csv(\"training_set.csv\")\n",
    "test_dataset = pd.read_csv(\"test_set.csv\")\n",
    "\n",
    "main_X_train = main_train.values[:,:-1]\n",
    "main_y_train = main_train.values[:,-1]\n",
    "\n",
    "train_dataset = main_train[:800]\n",
    "val_dataset = main_train[800:]\n",
    "\n",
    "X_train = train_dataset.values[:,:-1]\n",
    "y_train = train_dataset.values[:,-1]\n",
    "\n",
    "X_val = val_dataset.values[:,:-1]\n",
    "y_val = val_dataset.values[:,-1]\n",
    "\n",
    "X_test = test_dataset.values "
   ]
  },
  {
   "cell_type": "code",
   "execution_count": 4,
   "id": "48a2bdeb",
   "metadata": {
    "scrolled": true
   },
   "outputs": [
    {
     "data": {
      "text/plain": [
       "<matplotlib.legend.Legend at 0x2230587daf0>"
      ]
     },
     "execution_count": 4,
     "metadata": {},
     "output_type": "execute_result"
    },
    {
     "data": {
      "image/png": "[encoded data removed]",
      "text/plain": [
       "<Figure size 432x288 with 1 Axes>"
      ]
     },
     "metadata": {
      "needs_background": "light"
     },
     "output_type": "display_data"
    }
   ],
   "source": [
    "groups = main_train.groupby(\"y\")\n",
    "for name, group in groups:\n",
    "    plt.plot(group[\"x1\"], group[\"x2\"], marker=\"o\", linestyle=\"\", label=name)\n",
    "plt.legend()"
   ]
  },
  {
   "cell_type": "code",
   "execution_count": 5,
   "id": "d91f33ef",
   "metadata": {},
   "outputs": [],
   "source": [
    "def predict_Bayes_class(X,mu_list,sigma_list): \n",
    "    #Returns the predicted class from an optimal bayes classifier - distributions must be known\n",
    "    scores_list = []\n",
    "    classes = len(mu_list)\n",
    "    \n",
    "    for p in range(classes):\n",
    "        score = scipy.stats.multivariate_normal.pdf(X, mean=mu_list[p], cov=sigma_list[p])\n",
    "        scores_list.append(score)\n",
    "             \n",
    "    return np.argmax(scores_list)"
   ]
  },
  {
   "cell_type": "code",
   "execution_count": 6,
   "id": "c67de40e",
   "metadata": {},
   "outputs": [],
   "source": [
    "def get_mu_std(dataset):\n",
    "    m_1 = [dataset[dataset['y'] ==0]['x1'].mean() , dataset[dataset['y'] ==0]['x2'].mean()]\n",
    "    m_2 = [dataset[dataset['y'] ==1]['x1'].mean() , dataset[dataset['y'] ==1]['x2'].mean()]\n",
    "\n",
    "\n",
    "    cov_1 = dataset[dataset['y'] ==0][[\"x1\" , \"x2\"]].cov().to_numpy()\n",
    "    cov_2 = dataset[dataset['y'] ==1][[\"x1\" , \"x2\"]].cov().to_numpy()\n",
    "    return [m_1 , m_2] , [cov_1 , cov_2]"
   ]
  },
  {
   "cell_type": "markdown",
   "id": "b6f52419",
   "metadata": {},
   "source": [
    "# Validation"
   ]
  },
  {
   "cell_type": "code",
   "execution_count": 7,
   "id": "53594656",
   "metadata": {},
   "outputs": [
    {
     "name": "stdout",
     "output_type": "stream",
     "text": [
      "0.875\n"
     ]
    }
   ],
   "source": [
    "# get mu and cov from train part\n",
    "mu_list , cov_list = get_mu_std(train_dataset)\n",
    "\n",
    "# predict\n",
    "Y_pred = np.array([predict_Bayes_class(x,mu_list,cov_list) for x in X_val ] )\n",
    "acc = np.sum(Y_pred == y_val)/len(y_val)\n",
    "print(acc)"
   ]
  },
  {
   "cell_type": "markdown",
   "id": "c179ee69",
   "metadata": {},
   "source": [
    "# Test"
   ]
  },
  {
   "cell_type": "code",
   "execution_count": 8,
   "id": "593eac61",
   "metadata": {},
   "outputs": [
    {
     "data": {
      "text/plain": [
       "array([-1,  1,  1,  1, -1, -1, -1,  1,  1,  1,  1,  1, -1, -1, -1, -1, -1,\n",
       "        1, -1,  1, -1, -1, -1,  1,  1, -1, -1,  1, -1,  1, -1, -1, -1,  1,\n",
       "        1, -1, -1, -1,  1,  1,  1, -1,  1,  1, -1,  1, -1, -1,  1,  1,  1,\n",
       "        1, -1, -1, -1,  1, -1, -1, -1, -1, -1,  1, -1,  1,  1, -1, -1,  1,\n",
       "        1, -1,  1,  1,  1, -1, -1, -1, -1, -1, -1, -1, -1, -1, -1,  1, -1,\n",
       "       -1,  1, -1, -1, -1, -1,  1,  1, -1, -1, -1, -1,  1, -1, -1,  1,  1,\n",
       "       -1,  1, -1, -1,  1, -1, -1,  1,  1,  1, -1,  1, -1,  1, -1, -1, -1,\n",
       "        1, -1,  1,  1,  1, -1,  1, -1,  1, -1,  1, -1, -1, -1, -1, -1, -1,\n",
       "        1,  1,  1, -1, -1,  1,  1,  1,  1,  1, -1,  1, -1, -1, -1, -1, -1,\n",
       "        1, -1,  1, -1,  1,  1, -1,  1,  1, -1,  1,  1,  1,  1,  1,  1, -1,\n",
       "       -1, -1,  1,  1, -1, -1,  1, -1, -1, -1, -1,  1,  1,  1, -1, -1, -1,\n",
       "       -1, -1,  1,  1, -1, -1,  1,  1,  1, -1, -1,  1,  1,  1,  1, -1, -1,\n",
       "       -1,  1,  1, -1,  1, -1, -1, -1,  1,  1,  1, -1, -1, -1, -1,  1, -1,\n",
       "        1, -1, -1, -1,  1,  1, -1,  1,  1, -1, -1, -1, -1, -1, -1, -1,  1,\n",
       "       -1, -1, -1,  1, -1,  1, -1, -1,  1, -1,  1,  1])"
      ]
     },
     "execution_count": 8,
     "metadata": {},
     "output_type": "execute_result"
    }
   ],
   "source": [
    "# get mu and cov from train part\n",
    "mu_list , cov_list = get_mu_std(main_train)\n",
    "\n",
    "# predict\n",
    "Y_pred = np.array([predict_Bayes_class(x,mu_list,cov_list) for x in X_test ] )\n",
    "Y_pred = np.where(Y_pred == 0 , -1 , 1)\n",
    "Y_pred"
   ]
  },
  {
   "cell_type": "code",
   "execution_count": 9,
   "id": "03dcb4c8",
   "metadata": {},
   "outputs": [
    {
     "data": {
      "text/plain": [
       "(250,)"
      ]
     },
     "execution_count": 9,
     "metadata": {},
     "output_type": "execute_result"
    }
   ],
   "source": [
    "Y_pred.shape"
   ]
  },
  {
   "cell_type": "code",
   "execution_count": 12,
   "id": "0636807b",
   "metadata": {},
   "outputs": [],
   "source": [
    "pd.DataFrame(Y_pred).to_csv(\"1.csv\" , index=None)"
   ]
  },
  {
   "cell_type": "code",
   "execution_count": 13,
   "id": "0b8b24e7",
   "metadata": {},
   "outputs": [
    {
     "data": {
      "text/html": [
       "<div>\n",
       "<style scoped>\n",
       "    .dataframe tbody tr th:only-of-type {\n",
       "        vertical-align: middle;\n",
       "    }\n",
       "\n",
       "    .dataframe tbody tr th {\n",
       "        vertical-align: top;\n",
       "    }\n",
       "\n",
       "    .dataframe thead th {\n",
       "        text-align: right;\n",
       "    }\n",
       "</style>\n",
       "<table border=\"1\" class=\"dataframe\">\n",
       "  <thead>\n",
       "    <tr style=\"text-align: right;\">\n",
       "      <th></th>\n",
       "      <th>0</th>\n",
       "    </tr>\n",
       "  </thead>\n",
       "  <tbody>\n",
       "    <tr>\n",
       "      <th>0</th>\n",
       "      <td>-1</td>\n",
       "    </tr>\n",
       "    <tr>\n",
       "      <th>1</th>\n",
       "      <td>1</td>\n",
       "    </tr>\n",
       "    <tr>\n",
       "      <th>2</th>\n",
       "      <td>1</td>\n",
       "    </tr>\n",
       "    <tr>\n",
       "      <th>3</th>\n",
       "      <td>1</td>\n",
       "    </tr>\n",
       "    <tr>\n",
       "      <th>4</th>\n",
       "      <td>-1</td>\n",
       "    </tr>\n",
       "    <tr>\n",
       "      <th>...</th>\n",
       "      <td>...</td>\n",
       "    </tr>\n",
       "    <tr>\n",
       "      <th>245</th>\n",
       "      <td>-1</td>\n",
       "    </tr>\n",
       "    <tr>\n",
       "      <th>246</th>\n",
       "      <td>1</td>\n",
       "    </tr>\n",
       "    <tr>\n",
       "      <th>247</th>\n",
       "      <td>-1</td>\n",
       "    </tr>\n",
       "    <tr>\n",
       "      <th>248</th>\n",
       "      <td>1</td>\n",
       "    </tr>\n",
       "    <tr>\n",
       "      <th>249</th>\n",
       "      <td>1</td>\n",
       "    </tr>\n",
       "  </tbody>\n",
       "</table>\n",
       "<p>250 rows × 1 columns</p>\n",
       "</div>"
      ],
      "text/plain": [
       "     0\n",
       "0   -1\n",
       "1    1\n",
       "2    1\n",
       "3    1\n",
       "4   -1\n",
       "..  ..\n",
       "245 -1\n",
       "246  1\n",
       "247 -1\n",
       "248  1\n",
       "249  1\n",
       "\n",
       "[250 rows x 1 columns]"
      ]
     },
     "execution_count": 13,
     "metadata": {},
     "output_type": "execute_result"
    }
   ],
   "source": [
    "pd.read_csv(\"1.csv\")"
   ]
  },
  {
   "cell_type": "code",
   "execution_count": 14,
   "id": "787042cb",
   "metadata": {},
   "outputs": [],
   "source": [
    "o1 = pd.read_csv(\"1.csv\")\n",
    "o2 = pd.read_csv(\"2.csv\")\n",
    "o3 = pd.read_csv(\"3.csv\")\n",
    "o4 = pd.read_csv(\"4.csv\")"
   ]
  },
  {
   "cell_type": "code",
   "execution_count": 16,
   "id": "24ad9b7d",
   "metadata": {},
   "outputs": [],
   "source": [
    "final = pd.concat([o1, o2 , o3 , o4], ignore_index=True , axis  = 1)"
   ]
  },
  {
   "cell_type": "code",
   "execution_count": 17,
   "id": "ddb45337",
   "metadata": {},
   "outputs": [],
   "source": [
    "final.to_csv(\"final.csv\" , index=None)"
   ]
  },
  {
   "cell_type": "code",
   "execution_count": 18,
   "id": "12ef6dd0",
   "metadata": {},
   "outputs": [
    {
     "data": {
      "text/html": [
       "<div>\n",
       "<style scoped>\n",
       "    .dataframe tbody tr th:only-of-type {\n",
       "        vertical-align: middle;\n",
       "    }\n",
       "\n",
       "    .dataframe tbody tr th {\n",
       "        vertical-align: top;\n",
       "    }\n",
       "\n",
       "    .dataframe thead th {\n",
       "        text-align: right;\n",
       "    }\n",
       "</style>\n",
       "<table border=\"1\" class=\"dataframe\">\n",
       "  <thead>\n",
       "    <tr style=\"text-align: right;\">\n",
       "      <th></th>\n",
       "      <th>0</th>\n",
       "      <th>1</th>\n",
       "      <th>2</th>\n",
       "      <th>3</th>\n",
       "    </tr>\n",
       "  </thead>\n",
       "  <tbody>\n",
       "    <tr>\n",
       "      <th>0</th>\n",
       "      <td>-1</td>\n",
       "      <td>-1</td>\n",
       "      <td>-1</td>\n",
       "      <td>-1</td>\n",
       "    </tr>\n",
       "    <tr>\n",
       "      <th>1</th>\n",
       "      <td>1</td>\n",
       "      <td>1</td>\n",
       "      <td>1</td>\n",
       "      <td>1</td>\n",
       "    </tr>\n",
       "    <tr>\n",
       "      <th>2</th>\n",
       "      <td>1</td>\n",
       "      <td>1</td>\n",
       "      <td>1</td>\n",
       "      <td>-1</td>\n",
       "    </tr>\n",
       "    <tr>\n",
       "      <th>3</th>\n",
       "      <td>1</td>\n",
       "      <td>1</td>\n",
       "      <td>1</td>\n",
       "      <td>-1</td>\n",
       "    </tr>\n",
       "    <tr>\n",
       "      <th>4</th>\n",
       "      <td>-1</td>\n",
       "      <td>-1</td>\n",
       "      <td>-1</td>\n",
       "      <td>-1</td>\n",
       "    </tr>\n",
       "    <tr>\n",
       "      <th>...</th>\n",
       "      <td>...</td>\n",
       "      <td>...</td>\n",
       "      <td>...</td>\n",
       "      <td>...</td>\n",
       "    </tr>\n",
       "    <tr>\n",
       "      <th>245</th>\n",
       "      <td>-1</td>\n",
       "      <td>-1</td>\n",
       "      <td>-1</td>\n",
       "      <td>-1</td>\n",
       "    </tr>\n",
       "    <tr>\n",
       "      <th>246</th>\n",
       "      <td>1</td>\n",
       "      <td>1</td>\n",
       "      <td>1</td>\n",
       "      <td>1</td>\n",
       "    </tr>\n",
       "    <tr>\n",
       "      <th>247</th>\n",
       "      <td>-1</td>\n",
       "      <td>-1</td>\n",
       "      <td>-1</td>\n",
       "      <td>-1</td>\n",
       "    </tr>\n",
       "    <tr>\n",
       "      <th>248</th>\n",
       "      <td>1</td>\n",
       "      <td>1</td>\n",
       "      <td>1</td>\n",
       "      <td>-1</td>\n",
       "    </tr>\n",
       "    <tr>\n",
       "      <th>249</th>\n",
       "      <td>1</td>\n",
       "      <td>1</td>\n",
       "      <td>1</td>\n",
       "      <td>-1</td>\n",
       "    </tr>\n",
       "  </tbody>\n",
       "</table>\n",
       "<p>250 rows × 4 columns</p>\n",
       "</div>"
      ],
      "text/plain": [
       "     0  1  2  3\n",
       "0   -1 -1 -1 -1\n",
       "1    1  1  1  1\n",
       "2    1  1  1 -1\n",
       "3    1  1  1 -1\n",
       "4   -1 -1 -1 -1\n",
       "..  .. .. .. ..\n",
       "245 -1 -1 -1 -1\n",
       "246  1  1  1  1\n",
       "247 -1 -1 -1 -1\n",
       "248  1  1  1 -1\n",
       "249  1  1  1 -1\n",
       "\n",
       "[250 rows x 4 columns]"
      ]
     },
     "execution_count": 18,
     "metadata": {},
     "output_type": "execute_result"
    }
   ],
   "source": [
    "pd.read_csv(\"final.csv\")"
   ]
  },
  {
   "cell_type": "code",
   "execution_count": null,
   "id": "5659f269",
   "metadata": {},
   "outputs": [],
   "source": []
  }
 ],
 "metadata": {
  "kernelspec": {
   "display_name": "Python 3 (ipykernel)",
   "language": "python",
   "name": "python3"
  },
  "language_info": {
   "codemirror_mode": {
    "name": "ipython",
    "version": 3
   },
   "file_extension": ".py",
   "mimetype": "text/x-python",
   "name": "python",
   "nbconvert_exporter": "python",
   "pygments_lexer": "ipython3",
   "version": "3.9.7"
  }
 },
 "nbformat": 4,
 "nbformat_minor": 5
}
