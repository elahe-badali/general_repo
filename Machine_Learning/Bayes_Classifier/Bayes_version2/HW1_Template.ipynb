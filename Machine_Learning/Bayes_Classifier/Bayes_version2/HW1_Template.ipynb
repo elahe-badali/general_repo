{
 "cells": [
  {
   "cell_type": "markdown",
   "metadata": {},
   "source": [
    "# Requirements"
   ]
  },
  {
   "cell_type": "code",
   "execution_count": 1,
   "metadata": {},
   "outputs": [],
   "source": [
    "import numpy as np\n",
    "import pandas as pd\n",
    "import matplotlib.pyplot as plt\n",
    "import matplotlib\n",
    "import math\n",
    "import random\n",
    "from sklearn.model_selection import KFold"
   ]
  },
  {
   "cell_type": "markdown",
   "metadata": {},
   "source": [
    "# Part A"
   ]
  },
  {
   "cell_type": "markdown",
   "metadata": {},
   "source": [
    "### 1. Reading datasets."
   ]
  },
  {
   "cell_type": "code",
   "execution_count": 2,
   "metadata": {},
   "outputs": [],
   "source": [
    "# Reading datasets\n",
    "train_df1 = pd.read_csv(\"train1.csv\") \n",
    "train_df2 = pd.read_csv(\"train2.csv\")\n",
    "\n",
    "# Drop the index column\n",
    "train_df1.drop(['Unnamed: 0'] , axis = 1 , inplace= True)\n",
    "train_df2.drop(['Unnamed: 0'] , axis = 1 , inplace= True)\n",
    "\n",
    "# split featurs and labels\n",
    "X_train_df1 = train_df1.values[:,:-1]\n",
    "y_train_df1 = train_df1.values[:,-1]\n",
    "\n",
    "X_train_df2 = train_df2.values[:,:-1]\n",
    "y_train_df2 = train_df2.values[:,-1]"
   ]
  },
  {
   "cell_type": "code",
   "execution_count": 3,
   "metadata": {
    "scrolled": true
   },
   "outputs": [
    {
     "data": {
      "text/html": [
       "<div>\n",
       "<style scoped>\n",
       "    .dataframe tbody tr th:only-of-type {\n",
       "        vertical-align: middle;\n",
       "    }\n",
       "\n",
       "    .dataframe tbody tr th {\n",
       "        vertical-align: top;\n",
       "    }\n",
       "\n",
       "    .dataframe thead th {\n",
       "        text-align: right;\n",
       "    }\n",
       "</style>\n",
       "<table border=\"1\" class=\"dataframe\">\n",
       "  <thead>\n",
       "    <tr style=\"text-align: right;\">\n",
       "      <th></th>\n",
       "      <th>x1</th>\n",
       "      <th>x2</th>\n",
       "      <th>y</th>\n",
       "    </tr>\n",
       "  </thead>\n",
       "  <tbody>\n",
       "    <tr>\n",
       "      <th>0</th>\n",
       "      <td>1.143987</td>\n",
       "      <td>0.339646</td>\n",
       "      <td>0.0</td>\n",
       "    </tr>\n",
       "    <tr>\n",
       "      <th>1</th>\n",
       "      <td>2.284493</td>\n",
       "      <td>1.129224</td>\n",
       "      <td>0.0</td>\n",
       "    </tr>\n",
       "    <tr>\n",
       "      <th>2</th>\n",
       "      <td>1.053601</td>\n",
       "      <td>0.573296</td>\n",
       "      <td>0.0</td>\n",
       "    </tr>\n",
       "    <tr>\n",
       "      <th>3</th>\n",
       "      <td>-0.652288</td>\n",
       "      <td>3.116746</td>\n",
       "      <td>1.0</td>\n",
       "    </tr>\n",
       "    <tr>\n",
       "      <th>4</th>\n",
       "      <td>-0.223255</td>\n",
       "      <td>3.463650</td>\n",
       "      <td>1.0</td>\n",
       "    </tr>\n",
       "  </tbody>\n",
       "</table>\n",
       "</div>"
      ],
      "text/plain": [
       "         x1        x2    y\n",
       "0  1.143987  0.339646  0.0\n",
       "1  2.284493  1.129224  0.0\n",
       "2  1.053601  0.573296  0.0\n",
       "3 -0.652288  3.116746  1.0\n",
       "4 -0.223255  3.463650  1.0"
      ]
     },
     "execution_count": 3,
     "metadata": {},
     "output_type": "execute_result"
    }
   ],
   "source": [
    "# checking that data is ok\n",
    "train_df1.head()"
   ]
  },
  {
   "cell_type": "markdown",
   "metadata": {},
   "source": [
    "### 2. For each class , calculate and visualize covariance matrix."
   ]
  },
  {
   "cell_type": "code",
   "execution_count": 4,
   "metadata": {},
   "outputs": [],
   "source": [
    "def calc_cov(df):\n",
    "    cov_class_0 = df[df['y'] ==0][[\"x1\" , \"x2\"]].cov().to_numpy()\n",
    "    cov_class_1 = df[df['y'] ==1][[\"x1\" , \"x2\"]].cov().to_numpy()\n",
    "    return [cov_class_0, cov_class_1]\n",
    "\n",
    "# calculation\n",
    "cov_list_df1 = calc_cov(train_df1)\n",
    "cov_list_df2 = calc_cov(train_df2)"
   ]
  },
  {
   "cell_type": "code",
   "execution_count": 5,
   "metadata": {
    "scrolled": false
   },
   "outputs": [
    {
     "name": "stdout",
     "output_type": "stream",
     "text": [
      "Plot1. Cov class 0 df1:\n"
     ]
    },
    {
     "name": "stderr",
     "output_type": "stream",
     "text": [
      "C:\\Users\\Windows\\AppData\\Local\\Temp/ipykernel_8364/646880799.py:7: UserWarning: FixedFormatter should only be used together with FixedLocator\n",
      "  ax.set_xticklabels(['']+alpha)\n",
      "C:\\Users\\Windows\\AppData\\Local\\Temp/ipykernel_8364/646880799.py:8: UserWarning: FixedFormatter should only be used together with FixedLocator\n",
      "  ax.set_yticklabels(['']+alpha)\n"
     ]
    },
    {
     "data": {
      "image/png": "[encoded data removed]",
      "text/plain": [
       "<Figure size 432x288 with 2 Axes>"
      ]
     },
     "metadata": {
      "needs_background": "light"
     },
     "output_type": "display_data"
    },
    {
     "data": {
      "image/png": "[encoded data removed]",
      "text/plain": [
       "<Figure size 432x288 with 2 Axes>"
      ]
     },
     "metadata": {
      "needs_background": "light"
     },
     "output_type": "display_data"
    },
    {
     "data": {
      "image/png": "[encoded data removed]",
      "text/plain": [
       "<Figure size 432x288 with 2 Axes>"
      ]
     },
     "metadata": {
      "needs_background": "light"
     },
     "output_type": "display_data"
    },
    {
     "data": {
      "image/png": "[encoded data removed]",
      "text/plain": [
       "<Figure size 432x288 with 2 Axes>"
      ]
     },
     "metadata": {
      "needs_background": "light"
     },
     "output_type": "display_data"
    }
   ],
   "source": [
    "def plot_cov(cov_mtrx):\n",
    "    alpha = ['x1', 'x2']\n",
    "    fig = plt.figure()\n",
    "    ax = fig.add_subplot(111)\n",
    "    cax = ax.matshow(cov_mtrx,interpolation='nearest')\n",
    "    fig.colorbar(cax)\n",
    "    ax.set_xticklabels(['']+alpha)\n",
    "    ax.set_yticklabels(['']+alpha)\n",
    "\n",
    "    \n",
    "print(\"Plot1. Cov class 0 df1:\")\n",
    "plot_cov(cov_list_df1[0])\n",
    "plt.gca().set(title='Plot1. Cov class 0 df1')\n",
    "plt.show()\n",
    "\n",
    "plot_cov(cov_list_df1[1])\n",
    "plt.gca().set(title='Plot2. Cov class 1 df1')\n",
    "plt.show()\n",
    "\n",
    "plot_cov(cov_list_df2[0])\n",
    "plt.gca().set(title='Plot3. Cov class 0 df2')\n",
    "plt.show()\n",
    "\n",
    "plot_cov(cov_list_df2[1])\n",
    "plt.gca().set(title='Plot4. Cov class 1 df2')\n",
    "plt.show()\n"
   ]
  },
  {
   "cell_type": "markdown",
   "metadata": {},
   "source": [
    "#### The covariance matrix is symmetric and feature-by-feature shaped. The diagonal contains the variance of a single feature, whereas the non-diagonal entries contain the covariance.\n",
    "#### Plot1 for class 0, shows that correlation between different features are low and high variance exist in x1 feature. This can been seen clealy in part 4 plots that variance of blue class (class 0) in x1 axis is higher than x2 axis. \n",
    "#### Plot2 also have same interpretation in x2 feature.\n",
    "#### Plot3 and Plot4 have high variance in x1 and x2 feature and approximately equal. "
   ]
  },
  {
   "cell_type": "markdown",
   "metadata": {},
   "source": [
    "### 3. Plot Histograms."
   ]
  },
  {
   "cell_type": "code",
   "execution_count": 6,
   "metadata": {},
   "outputs": [
    {
     "data": {
      "text/plain": [
       "<matplotlib.legend.Legend at 0x1fd0d7eca30>"
      ]
     },
     "execution_count": 6,
     "metadata": {},
     "output_type": "execute_result"
    },
    {
     "data": {
      "image/png": "[encoded data removed]",
      "text/plain": [
       "<Figure size 432x288 with 1 Axes>"
      ]
     },
     "metadata": {
      "needs_background": "light"
     },
     "output_type": "display_data"
    }
   ],
   "source": [
    "groups = train_df1.groupby(\"y\")\n",
    "for name, group in groups:\n",
    "    a = plt.hist(group['x1'] , alpha=0.5 , label=name)\n",
    "    plt.gca().set(title='Plot1. Histograms of feature x1 in df1')\n",
    "\n",
    "plt.legend()"
   ]
  },
  {
   "cell_type": "code",
   "execution_count": 7,
   "metadata": {
    "scrolled": true
   },
   "outputs": [
    {
     "data": {
      "text/plain": [
       "<matplotlib.legend.Legend at 0x1fd0d7ebb20>"
      ]
     },
     "execution_count": 7,
     "metadata": {},
     "output_type": "execute_result"
    },
    {
     "data": {
      "image/png": "[encoded data removed]",
      "text/plain": [
       "<Figure size 432x288 with 1 Axes>"
      ]
     },
     "metadata": {
      "needs_background": "light"
     },
     "output_type": "display_data"
    }
   ],
   "source": [
    "groups = train_df1.groupby(\"y\")\n",
    "for name, group in groups:\n",
    "    a = plt.hist(group['x2'] , alpha=0.5 , label=name)\n",
    "    plt.gca().set(title='Plot2. Histograms of feature x2 in df1')\n",
    "\n",
    "plt.legend()"
   ]
  },
  {
   "cell_type": "code",
   "execution_count": 8,
   "metadata": {},
   "outputs": [
    {
     "data": {
      "text/plain": [
       "<matplotlib.legend.Legend at 0x1fd0e4654f0>"
      ]
     },
     "execution_count": 8,
     "metadata": {},
     "output_type": "execute_result"
    },
    {
     "data": {
      "image/png": "[encoded data removed]",
      "text/plain": [
       "<Figure size 432x288 with 1 Axes>"
      ]
     },
     "metadata": {
      "needs_background": "light"
     },
     "output_type": "display_data"
    }
   ],
   "source": [
    "groups = train_df2.groupby(\"y\")\n",
    "for name, group in groups:\n",
    "    a = plt.hist(group['x1'] , alpha=0.5 , label=name)\n",
    "    plt.gca().set(title='Plot3. Histograms of feature x1 in df2')\n",
    "\n",
    "plt.legend()"
   ]
  },
  {
   "cell_type": "code",
   "execution_count": 9,
   "metadata": {
    "scrolled": true
   },
   "outputs": [
    {
     "data": {
      "text/plain": [
       "<matplotlib.legend.Legend at 0x1fd0e75da30>"
      ]
     },
     "execution_count": 9,
     "metadata": {},
     "output_type": "execute_result"
    },
    {
     "data": {
      "image/png": "[encoded data removed]",
      "text/plain": [
       "<Figure size 432x288 with 1 Axes>"
      ]
     },
     "metadata": {
      "needs_background": "light"
     },
     "output_type": "display_data"
    }
   ],
   "source": [
    "groups = train_df2.groupby(\"y\")\n",
    "for name, group in groups:\n",
    "    a = plt.hist(group['x2'] , alpha=0.5 , label=name)\n",
    "    plt.gca().set(title='Plot4. Histograms of feature x2 in df2')\n",
    "\n",
    "plt.legend()"
   ]
  },
  {
   "cell_type": "markdown",
   "metadata": {},
   "source": [
    "#### Plot1 and Plot2 show that feature x1 and x2 in class 0 and 1 have near normal distribution. but in Plot3 and Plot4 show that features have uniform distribution. \n",
    "#### In Plot1 and Plot2 we see that histograms have small overlap so this datapoints cant clealy seprable. Plot3 hase small overlap so this means df2 is better seprable according to x1. "
   ]
  },
  {
   "cell_type": "markdown",
   "metadata": {},
   "source": [
    "### 4. Plot training data."
   ]
  },
  {
   "cell_type": "code",
   "execution_count": 10,
   "metadata": {},
   "outputs": [
    {
     "data": {
      "text/plain": [
       "<matplotlib.legend.Legend at 0x1fd0e877130>"
      ]
     },
     "execution_count": 10,
     "metadata": {},
     "output_type": "execute_result"
    },
    {
     "data": {
      "image/png": "[encoded data removed]",
      "text/plain": [
       "<Figure size 432x288 with 1 Axes>"
      ]
     },
     "metadata": {
      "needs_background": "light"
     },
     "output_type": "display_data"
    }
   ],
   "source": [
    "groups = train_df1.groupby(\"y\")\n",
    "for name, group in groups:\n",
    "    plt.plot(group[\"x1\"], group[\"x2\"], marker=\"o\", linestyle=\"\", label=name)\n",
    "    plt.gca().set(title='dataset 1')\n",
    "\n",
    "plt.legend()"
   ]
  },
  {
   "cell_type": "code",
   "execution_count": 11,
   "metadata": {},
   "outputs": [
    {
     "data": {
      "text/plain": [
       "<matplotlib.legend.Legend at 0x1fd0e9b9220>"
      ]
     },
     "execution_count": 11,
     "metadata": {},
     "output_type": "execute_result"
    },
    {
     "data": {
      "image/png": "[encoded data removed]",
      "text/plain": [
       "<Figure size 432x288 with 1 Axes>"
      ]
     },
     "metadata": {
      "needs_background": "light"
     },
     "output_type": "display_data"
    }
   ],
   "source": [
    "groups = train_df2.groupby(\"y\")\n",
    "for name, group in groups:\n",
    "    plt.plot(group[\"x1\"], group[\"x2\"], marker=\"o\", linestyle=\"\", label=name)\n",
    "    plt.gca().set(title='dataset 2')\n",
    "\n",
    "plt.legend()"
   ]
  },
  {
   "cell_type": "markdown",
   "metadata": {},
   "source": [
    "# Part B"
   ]
  },
  {
   "cell_type": "markdown",
   "metadata": {},
   "source": [
    "### 1. Calculate mean, for each class."
   ]
  },
  {
   "cell_type": "code",
   "execution_count": 12,
   "metadata": {},
   "outputs": [],
   "source": [
    "def calc_mu(dataset):\n",
    "    m_class0 = [dataset[dataset['y'] ==0]['x1'].mean() , dataset[dataset['y'] ==0]['x2'].mean()]\n",
    "    m_class1 = [dataset[dataset['y'] ==1]['x1'].mean() , dataset[dataset['y'] ==1]['x2'].mean()]\n",
    "    return [m_class0 , m_class1]\n",
    "\n",
    "# calc mu\n",
    "mu_list_df1 = calc_mu(train_df1)\n",
    "mu_list_df2 = calc_mu(train_df2)"
   ]
  },
  {
   "cell_type": "code",
   "execution_count": 13,
   "metadata": {
    "scrolled": true
   },
   "outputs": [
    {
     "name": "stdout",
     "output_type": "stream",
     "text": [
      "informations in index 0 related to class 0 and index 1 related to class 1.\n",
      "\n",
      "mean df1: [[1.188145561795951, 0.744423157365777], [-1.384668416475425, 3.071031116789257]]\n",
      "mean df2: [[1.0000000000000047, 0.9999999999999989], [4.500000000000005, 2.9999999999999982]]\n",
      "\n",
      "Cov df1:\n",
      "[array([[ 0.65160952, -0.01944138],\n",
      "       [-0.01944138,  0.36506496]]), array([[0.41319973, 0.01333729],\n",
      "       [0.01333729, 1.49504785]])]\n",
      "Cov df2:\n",
      "[array([[ 1.29952458e+00, -3.20601159e-05],\n",
      "       [-3.20601159e-05,  1.30047560e+00]]), array([[ 8.99978203e-01, -1.96515212e-05],\n",
      "       [-1.96515212e-05,  9.00021797e-01]])]\n"
     ]
    }
   ],
   "source": [
    "print(\"informations in index 0 related to class 0 and index 1 related to class 1.\")\n",
    "print()\n",
    "print(\"mean df1:\", mu_list_df1)\n",
    "print(\"mean df2:\", mu_list_df2)\n",
    "print()\n",
    "print(\"Cov df1:\")\n",
    "print(cov_list_df1)\n",
    "print(\"Cov df2:\")\n",
    "print(cov_list_df2)"
   ]
  },
  {
   "cell_type": "code",
   "execution_count": 14,
   "metadata": {},
   "outputs": [
    {
     "name": "stdout",
     "output_type": "stream",
     "text": [
      "0.5 0.5 0.5 0.5\n"
     ]
    }
   ],
   "source": [
    "# calculate prior\n",
    "p_c0_df1 = train_df1[train_df1['y'] == 0].shape[0]/train_df1.shape[0]\n",
    "p_c1_df1 = train_df1[train_df1['y'] == 1].shape[0]/train_df1.shape[0]\n",
    "p_c0_df2 = train_df2[train_df2['y'] == 0].shape[0]/train_df2.shape[0]\n",
    "p_c1_df2 = train_df2[train_df2['y'] == 1].shape[0]/train_df2.shape[0]\n",
    "\n",
    "print(p_c0_df1 , p_c1_df1 , p_c0_df2 , p_c1_df2)"
   ]
  },
  {
   "cell_type": "markdown",
   "metadata": {},
   "source": [
    "### 2. Calculate discriminant function g(x)."
   ]
  },
  {
   "cell_type": "code",
   "execution_count": 15,
   "metadata": {},
   "outputs": [],
   "source": [
    "# different mean but variance is constant in each class\n",
    "def calc_case1(x, mu, covar , p_ci):\n",
    "    a = np.transpose(x - mu)\n",
    "    b = 1/covar[0][0] # constant variance\n",
    "    c = x - mu\n",
    "    d = np.matmul(a, c)\n",
    "    f = -0.5 * b * d\n",
    "    \n",
    "    g = -0.5* np.log(np.linalg.det(covar)) # this is not elimininated because in differenct class we have different variances\n",
    "    \n",
    "    h = np.log(p_ci)\n",
    "    \n",
    "    return f + g + h"
   ]
  },
  {
   "cell_type": "code",
   "execution_count": 16,
   "metadata": {},
   "outputs": [],
   "source": [
    "def calc_case2(x, mu, covar , p_ci):\n",
    "    a = np.transpose(x - mu)\n",
    "    b = np.linalg.inv(covar)\n",
    "    c = x - mu\n",
    "    d = np.matmul(a, b)\n",
    "    e = np.matmul(d, c)\n",
    "    f = -0.5 * e\n",
    "    \n",
    "    g = -0.5* np.log(np.linalg.det(covar))\n",
    "    \n",
    "    h = np.log(p_ci)\n",
    "    \n",
    "    return f + g + h"
   ]
  },
  {
   "cell_type": "code",
   "execution_count": 17,
   "metadata": {},
   "outputs": [],
   "source": [
    "def trainBayes(x , mu_list, cov_list , p_list):\n",
    "    classes = len(mu_list)\n",
    "    g = []\n",
    "    for c in range(classes):\n",
    "        cov_matrix = cov_list[c]\n",
    "        if abs(cov_matrix[0][0] - cov_matrix[1][1]) <= 1e-3: # features have equal variance in each class\n",
    "            score = calc_case1(x, mu_list[c] , cov_list[c] , p_list[c])\n",
    "            g.append(score) \n",
    "        else:\n",
    "            score = calc_case2(x , mu_list[c] , cov_list[c] , p_list[c] )\n",
    "            g.append(score)\n",
    "    \n",
    "    return np.argmax(g)"
   ]
  },
  {
   "cell_type": "markdown",
   "metadata": {},
   "source": [
    "### 3. test"
   ]
  },
  {
   "cell_type": "code",
   "execution_count": 18,
   "metadata": {},
   "outputs": [],
   "source": [
    "test_df1 = pd.read_csv(\"test1.csv\") \n",
    "test_df2 = pd.read_csv(\"test2.csv\")\n",
    "\n",
    "# Drop the index column\n",
    "test_df1.drop(['Unnamed: 0'] , axis = 1 , inplace= True)\n",
    "test_df2.drop(['Unnamed: 0'] , axis = 1 , inplace= True)\n",
    "\n",
    "# split featurs and labels\n",
    "X_test_df1 = test_df1.values[:,:-1]\n",
    "y_test_df1 = test_df1.values[:,-1]\n",
    "\n",
    "# split featurs and labels\n",
    "X_test_df2 = test_df2.values[:,:-1]\n",
    "y_test_df2 = test_df2.values[:,-1]"
   ]
  },
  {
   "cell_type": "code",
   "execution_count": 19,
   "metadata": {},
   "outputs": [
    {
     "name": "stdout",
     "output_type": "stream",
     "text": [
      "accuracy: 0.995\n",
      "error:  0.005\n"
     ]
    }
   ],
   "source": [
    "# testing dataset 1\n",
    "Y_pred_df1 = np.array([trainBayes(x,mu_list_df1,cov_list_df1 , [p_c0_df1 , p_c1_df1]) for x in X_test_df1] )\n",
    "acc_df1 = np.sum(Y_pred_df1 == y_test_df1)/len(y_test_df1)\n",
    "print(\"accuracy:\" , acc_df1)\n",
    "err_df1 = np.sum(Y_pred_df1 != y_test_df1)/len(y_test_df1)\n",
    "print(\"error: \" ,err_df1)"
   ]
  },
  {
   "cell_type": "code",
   "execution_count": 20,
   "metadata": {},
   "outputs": [
    {
     "name": "stdout",
     "output_type": "stream",
     "text": [
      "accuracy: 0.975\n",
      "error:  0.025\n"
     ]
    }
   ],
   "source": [
    "# testing dataset 2\n",
    "Y_pred_df2 = np.array([trainBayes(x,mu_list_df2,cov_list_df2 , [p_c0_df2 , p_c1_df2]) for x in X_test_df2] )\n",
    "acc_df2 = np.sum(Y_pred_df2 == y_test_df2)/len(y_test_df2)\n",
    "print(\"accuracy:\" , acc_df2)\n",
    "err_df2 = np.sum(Y_pred_df2 != y_test_df2)/len(y_test_df2)\n",
    "print(\"error: \" ,err_df2)"
   ]
  },
  {
   "cell_type": "markdown",
   "metadata": {},
   "source": [
    "# Part C: 3 fold cross validation"
   ]
  },
  {
   "cell_type": "markdown",
   "metadata": {},
   "source": [
    "### 1. Combining train and test dataset"
   ]
  },
  {
   "cell_type": "code",
   "execution_count": 21,
   "metadata": {},
   "outputs": [],
   "source": [
    "# concatination\n",
    "df1 = pd.concat([train_df1 , test_df1] , axis = 0).reset_index(drop = True)\n",
    "df2 = pd.concat([train_df2 , test_df2] , axis = 0).reset_index(drop = True)\n",
    "\n",
    "# split featurs and labels\n",
    "X1 = df1.values[:,:-1]\n",
    "y1 = df1.values[:,-1]\n",
    "\n",
    "X2 = df2.values[:,:-1]\n",
    "y2 = df2.values[:,-1]"
   ]
  },
  {
   "cell_type": "code",
   "execution_count": 22,
   "metadata": {},
   "outputs": [
    {
     "data": {
      "text/html": [
       "<div>\n",
       "<style scoped>\n",
       "    .dataframe tbody tr th:only-of-type {\n",
       "        vertical-align: middle;\n",
       "    }\n",
       "\n",
       "    .dataframe tbody tr th {\n",
       "        vertical-align: top;\n",
       "    }\n",
       "\n",
       "    .dataframe thead th {\n",
       "        text-align: right;\n",
       "    }\n",
       "</style>\n",
       "<table border=\"1\" class=\"dataframe\">\n",
       "  <thead>\n",
       "    <tr style=\"text-align: right;\">\n",
       "      <th></th>\n",
       "      <th>x1</th>\n",
       "      <th>x2</th>\n",
       "      <th>y</th>\n",
       "    </tr>\n",
       "  </thead>\n",
       "  <tbody>\n",
       "    <tr>\n",
       "      <th>0</th>\n",
       "      <td>1.143987</td>\n",
       "      <td>0.339646</td>\n",
       "      <td>0.0</td>\n",
       "    </tr>\n",
       "    <tr>\n",
       "      <th>1</th>\n",
       "      <td>2.284493</td>\n",
       "      <td>1.129224</td>\n",
       "      <td>0.0</td>\n",
       "    </tr>\n",
       "    <tr>\n",
       "      <th>2</th>\n",
       "      <td>1.053601</td>\n",
       "      <td>0.573296</td>\n",
       "      <td>0.0</td>\n",
       "    </tr>\n",
       "    <tr>\n",
       "      <th>3</th>\n",
       "      <td>-0.652288</td>\n",
       "      <td>3.116746</td>\n",
       "      <td>1.0</td>\n",
       "    </tr>\n",
       "    <tr>\n",
       "      <th>4</th>\n",
       "      <td>-0.223255</td>\n",
       "      <td>3.463650</td>\n",
       "      <td>1.0</td>\n",
       "    </tr>\n",
       "  </tbody>\n",
       "</table>\n",
       "</div>"
      ],
      "text/plain": [
       "         x1        x2    y\n",
       "0  1.143987  0.339646  0.0\n",
       "1  2.284493  1.129224  0.0\n",
       "2  1.053601  0.573296  0.0\n",
       "3 -0.652288  3.116746  1.0\n",
       "4 -0.223255  3.463650  1.0"
      ]
     },
     "execution_count": 22,
     "metadata": {},
     "output_type": "execute_result"
    }
   ],
   "source": [
    "df1.head()"
   ]
  },
  {
   "cell_type": "markdown",
   "metadata": {},
   "source": [
    "### 2. Apply 3-fold cross validation"
   ]
  },
  {
   "cell_type": "code",
   "execution_count": 23,
   "metadata": {},
   "outputs": [],
   "source": [
    "def Perform_Kfold(df,  k):  \n",
    "    kf = KFold(n_splits=3 , random_state = 314 , shuffle = True) # 3-fold\n",
    "    all_errs = 0\n",
    "    fold = 1\n",
    "\n",
    "    for train_index, test_index in kf.split(df.values):\n",
    "        train_df = df.loc[list(train_index) , :]\n",
    "        test_df = df.loc[list(test_index) , :]\n",
    "        \n",
    "        # get mu and cov if train part\n",
    "        mu_list = calc_mu(train_df)\n",
    "        cov_list = calc_cov(train_df)\n",
    "        \n",
    "        # split featurs and labels\n",
    "        X_test = test_df.values[:,:-1]\n",
    "        y_test = test_df.values[:,-1]\n",
    "        \n",
    "        # priors\n",
    "        p_c0 = train_df[train_df['y'] == 0].shape[0]/train_df.shape[0]\n",
    "        p_c1 = train_df[train_df['y'] == 1].shape[0]/train_df.shape[0]\n",
    "\n",
    "        # perform bayes classifier\n",
    "        Y_pred = np.array([trainBayes(x,mu_list,cov_list , [p_c0 , p_c1]) for x in X_test] )\n",
    "        \n",
    "        # Evaluation\n",
    "        err = np.sum(Y_pred != y_test)/len(y_test)\n",
    "        \n",
    "        print(\"error in fold %d: %.4f\" %(fold ,err))\n",
    "        \n",
    "        all_errs+=err\n",
    "        fold+=1\n",
    "    print(\"mean error\" , all_errs/k)\n"
   ]
  },
  {
   "cell_type": "code",
   "execution_count": 24,
   "metadata": {},
   "outputs": [
    {
     "name": "stdout",
     "output_type": "stream",
     "text": [
      "error in fold 1: 0.0165\n",
      "error in fold 2: 0.0135\n",
      "error in fold 3: 0.0075\n",
      "mean error 0.012497505001253127\n"
     ]
    }
   ],
   "source": [
    "# perfom kfold on dataset1\n",
    "Perform_Kfold(df1, k = 3)"
   ]
  },
  {
   "cell_type": "code",
   "execution_count": 25,
   "metadata": {},
   "outputs": [
    {
     "name": "stdout",
     "output_type": "stream",
     "text": [
      "error in fold 1: 0.0163\n",
      "error in fold 2: 0.0175\n",
      "error in fold 3: 0.0163\n",
      "mean error 0.016666666666666666\n"
     ]
    }
   ],
   "source": [
    "# perfom kfold on dataset2\n",
    "Perform_Kfold(df2, k = 3)"
   ]
  },
  {
   "cell_type": "markdown",
   "metadata": {},
   "source": [
    "#### K-fold is most reliable because in each fold, dataset split differently than other folds and train K times and averaging results can reduce the unreliability.  "
   ]
  },
  {
   "cell_type": "markdown",
   "metadata": {},
   "source": [
    "# Part D: Semi-Supervised learning"
   ]
  },
  {
   "cell_type": "markdown",
   "metadata": {},
   "source": [
    "### 1. plot dataset 3"
   ]
  },
  {
   "cell_type": "code",
   "execution_count": 26,
   "metadata": {},
   "outputs": [],
   "source": [
    "train_df3 = pd.read_csv(\"train3.csv\")\n",
    "train_df3.drop(['Unnamed: 0'] , axis = 1 , inplace= True)"
   ]
  },
  {
   "cell_type": "code",
   "execution_count": 27,
   "metadata": {},
   "outputs": [
    {
     "data": {
      "text/html": [
       "<div>\n",
       "<style scoped>\n",
       "    .dataframe tbody tr th:only-of-type {\n",
       "        vertical-align: middle;\n",
       "    }\n",
       "\n",
       "    .dataframe tbody tr th {\n",
       "        vertical-align: top;\n",
       "    }\n",
       "\n",
       "    .dataframe thead th {\n",
       "        text-align: right;\n",
       "    }\n",
       "</style>\n",
       "<table border=\"1\" class=\"dataframe\">\n",
       "  <thead>\n",
       "    <tr style=\"text-align: right;\">\n",
       "      <th></th>\n",
       "      <th>x1</th>\n",
       "      <th>x2</th>\n",
       "      <th>y</th>\n",
       "    </tr>\n",
       "  </thead>\n",
       "  <tbody>\n",
       "    <tr>\n",
       "      <th>0</th>\n",
       "      <td>2.328009</td>\n",
       "      <td>-0.054717</td>\n",
       "      <td>0.0</td>\n",
       "    </tr>\n",
       "    <tr>\n",
       "      <th>1</th>\n",
       "      <td>-0.826687</td>\n",
       "      <td>4.044049</td>\n",
       "      <td>1.0</td>\n",
       "    </tr>\n",
       "    <tr>\n",
       "      <th>2</th>\n",
       "      <td>-1.367783</td>\n",
       "      <td>2.711673</td>\n",
       "      <td>1.0</td>\n",
       "    </tr>\n",
       "    <tr>\n",
       "      <th>3</th>\n",
       "      <td>1.181950</td>\n",
       "      <td>0.929444</td>\n",
       "      <td>0.0</td>\n",
       "    </tr>\n",
       "    <tr>\n",
       "      <th>4</th>\n",
       "      <td>-1.632349</td>\n",
       "      <td>3.952147</td>\n",
       "      <td>1.0</td>\n",
       "    </tr>\n",
       "    <tr>\n",
       "      <th>...</th>\n",
       "      <td>...</td>\n",
       "      <td>...</td>\n",
       "      <td>...</td>\n",
       "    </tr>\n",
       "    <tr>\n",
       "      <th>795</th>\n",
       "      <td>-1.182370</td>\n",
       "      <td>2.306965</td>\n",
       "      <td>1.0</td>\n",
       "    </tr>\n",
       "    <tr>\n",
       "      <th>796</th>\n",
       "      <td>-1.356024</td>\n",
       "      <td>2.949347</td>\n",
       "      <td>1.0</td>\n",
       "    </tr>\n",
       "    <tr>\n",
       "      <th>797</th>\n",
       "      <td>1.178004</td>\n",
       "      <td>0.776796</td>\n",
       "      <td>0.0</td>\n",
       "    </tr>\n",
       "    <tr>\n",
       "      <th>798</th>\n",
       "      <td>-1.261943</td>\n",
       "      <td>2.137456</td>\n",
       "      <td>1.0</td>\n",
       "    </tr>\n",
       "    <tr>\n",
       "      <th>799</th>\n",
       "      <td>-0.869612</td>\n",
       "      <td>4.461603</td>\n",
       "      <td>1.0</td>\n",
       "    </tr>\n",
       "  </tbody>\n",
       "</table>\n",
       "<p>800 rows × 3 columns</p>\n",
       "</div>"
      ],
      "text/plain": [
       "           x1        x2    y\n",
       "0    2.328009 -0.054717  0.0\n",
       "1   -0.826687  4.044049  1.0\n",
       "2   -1.367783  2.711673  1.0\n",
       "3    1.181950  0.929444  0.0\n",
       "4   -1.632349  3.952147  1.0\n",
       "..        ...       ...  ...\n",
       "795 -1.182370  2.306965  1.0\n",
       "796 -1.356024  2.949347  1.0\n",
       "797  1.178004  0.776796  0.0\n",
       "798 -1.261943  2.137456  1.0\n",
       "799 -0.869612  4.461603  1.0\n",
       "\n",
       "[800 rows x 3 columns]"
      ]
     },
     "execution_count": 27,
     "metadata": {},
     "output_type": "execute_result"
    }
   ],
   "source": [
    "train_df3"
   ]
  },
  {
   "cell_type": "code",
   "execution_count": 28,
   "metadata": {},
   "outputs": [],
   "source": [
    "# split featurs and labels\n",
    "X_test_df3 = train_df3.values[:,:-1]\n",
    "y_test_df3 = train_df3.values[:,-1]"
   ]
  },
  {
   "cell_type": "code",
   "execution_count": 29,
   "metadata": {
    "scrolled": true
   },
   "outputs": [
    {
     "data": {
      "text/plain": [
       "<matplotlib.legend.Legend at 0x1fd0e9b9910>"
      ]
     },
     "execution_count": 29,
     "metadata": {},
     "output_type": "execute_result"
    },
    {
     "data": {
      "image/png": "[encoded data removed]",
      "text/plain": [
       "<Figure size 432x288 with 1 Axes>"
      ]
     },
     "metadata": {
      "needs_background": "light"
     },
     "output_type": "display_data"
    }
   ],
   "source": [
    "groups = train_df3.groupby(\"y\")\n",
    "for name, group in groups:\n",
    "    plt.plot(group[\"x1\"], group[\"x2\"], marker=\"o\", linestyle=\"\", label=name)\n",
    "    plt.gca().set(title='dataset 3')\n",
    "\n",
    "plt.legend()"
   ]
  },
  {
   "cell_type": "markdown",
   "metadata": {},
   "source": [
    "#### Dataset 3 plot is so simlar to Dataset 1 plot. this means that distributions are similar."
   ]
  },
  {
   "cell_type": "markdown",
   "metadata": {},
   "source": [
    "### 2. Train df1, Test df3"
   ]
  },
  {
   "cell_type": "code",
   "execution_count": 30,
   "metadata": {},
   "outputs": [],
   "source": [
    "mu_list_df1 = calc_mu(train_df1)\n",
    "cov_list_df1 = calc_cov(train_df1)"
   ]
  },
  {
   "cell_type": "code",
   "execution_count": 31,
   "metadata": {},
   "outputs": [
    {
     "name": "stdout",
     "output_type": "stream",
     "text": [
      "accuracy: 0.98875\n"
     ]
    }
   ],
   "source": [
    "Y_pred_df3 = np.array([trainBayes(x,mu_list_df1,cov_list_df1 , [p_c0_df1 , p_c1_df1]) for x in X_test_df3] )\n",
    "acc_df3 = np.sum(Y_pred_df3 == y_test_df3)/len(y_test_df3)\n",
    "print(\"accuracy:\" , acc_df3)"
   ]
  },
  {
   "cell_type": "code",
   "execution_count": 32,
   "metadata": {},
   "outputs": [],
   "source": [
    "# assiging pseudo-labels\n",
    "train_df3['y'] = Y_pred_df3"
   ]
  },
  {
   "cell_type": "code",
   "execution_count": 33,
   "metadata": {},
   "outputs": [
    {
     "data": {
      "text/html": [
       "<div>\n",
       "<style scoped>\n",
       "    .dataframe tbody tr th:only-of-type {\n",
       "        vertical-align: middle;\n",
       "    }\n",
       "\n",
       "    .dataframe tbody tr th {\n",
       "        vertical-align: top;\n",
       "    }\n",
       "\n",
       "    .dataframe thead th {\n",
       "        text-align: right;\n",
       "    }\n",
       "</style>\n",
       "<table border=\"1\" class=\"dataframe\">\n",
       "  <thead>\n",
       "    <tr style=\"text-align: right;\">\n",
       "      <th></th>\n",
       "      <th>x1</th>\n",
       "      <th>x2</th>\n",
       "      <th>y</th>\n",
       "    </tr>\n",
       "  </thead>\n",
       "  <tbody>\n",
       "    <tr>\n",
       "      <th>0</th>\n",
       "      <td>2.328009</td>\n",
       "      <td>-0.054717</td>\n",
       "      <td>0</td>\n",
       "    </tr>\n",
       "    <tr>\n",
       "      <th>1</th>\n",
       "      <td>-0.826687</td>\n",
       "      <td>4.044049</td>\n",
       "      <td>1</td>\n",
       "    </tr>\n",
       "    <tr>\n",
       "      <th>2</th>\n",
       "      <td>-1.367783</td>\n",
       "      <td>2.711673</td>\n",
       "      <td>1</td>\n",
       "    </tr>\n",
       "    <tr>\n",
       "      <th>3</th>\n",
       "      <td>1.181950</td>\n",
       "      <td>0.929444</td>\n",
       "      <td>0</td>\n",
       "    </tr>\n",
       "    <tr>\n",
       "      <th>4</th>\n",
       "      <td>-1.632349</td>\n",
       "      <td>3.952147</td>\n",
       "      <td>1</td>\n",
       "    </tr>\n",
       "    <tr>\n",
       "      <th>...</th>\n",
       "      <td>...</td>\n",
       "      <td>...</td>\n",
       "      <td>...</td>\n",
       "    </tr>\n",
       "    <tr>\n",
       "      <th>795</th>\n",
       "      <td>-1.182370</td>\n",
       "      <td>2.306965</td>\n",
       "      <td>1</td>\n",
       "    </tr>\n",
       "    <tr>\n",
       "      <th>796</th>\n",
       "      <td>-1.356024</td>\n",
       "      <td>2.949347</td>\n",
       "      <td>1</td>\n",
       "    </tr>\n",
       "    <tr>\n",
       "      <th>797</th>\n",
       "      <td>1.178004</td>\n",
       "      <td>0.776796</td>\n",
       "      <td>0</td>\n",
       "    </tr>\n",
       "    <tr>\n",
       "      <th>798</th>\n",
       "      <td>-1.261943</td>\n",
       "      <td>2.137456</td>\n",
       "      <td>1</td>\n",
       "    </tr>\n",
       "    <tr>\n",
       "      <th>799</th>\n",
       "      <td>-0.869612</td>\n",
       "      <td>4.461603</td>\n",
       "      <td>1</td>\n",
       "    </tr>\n",
       "  </tbody>\n",
       "</table>\n",
       "<p>800 rows × 3 columns</p>\n",
       "</div>"
      ],
      "text/plain": [
       "           x1        x2  y\n",
       "0    2.328009 -0.054717  0\n",
       "1   -0.826687  4.044049  1\n",
       "2   -1.367783  2.711673  1\n",
       "3    1.181950  0.929444  0\n",
       "4   -1.632349  3.952147  1\n",
       "..        ...       ... ..\n",
       "795 -1.182370  2.306965  1\n",
       "796 -1.356024  2.949347  1\n",
       "797  1.178004  0.776796  0\n",
       "798 -1.261943  2.137456  1\n",
       "799 -0.869612  4.461603  1\n",
       "\n",
       "[800 rows x 3 columns]"
      ]
     },
     "execution_count": 33,
     "metadata": {},
     "output_type": "execute_result"
    }
   ],
   "source": [
    "# check pseudo-labels\n",
    "train_df3"
   ]
  },
  {
   "cell_type": "code",
   "execution_count": 34,
   "metadata": {},
   "outputs": [],
   "source": [
    "# concat 2 dataset as a new dataset. train_df3 has pseudo-labels\n",
    "new_data = pd.concat([train_df1 , train_df3] , axis = 0).reset_index(drop = True)"
   ]
  },
  {
   "cell_type": "code",
   "execution_count": 35,
   "metadata": {},
   "outputs": [],
   "source": [
    "# calculate mu an cov of new data\n",
    "mu_list_new_data = calc_mu(new_data)\n",
    "cov_list_new_data = calc_cov(new_data)\n",
    "\n",
    "# calculate prior\n",
    "p_c0_new_data = new_data[new_data['y'] == 0].shape[0]/new_data.shape[0]\n",
    "p_c1_new_data = new_data[new_data['y'] == 1].shape[0]/new_data.shape[0]"
   ]
  },
  {
   "cell_type": "code",
   "execution_count": 36,
   "metadata": {},
   "outputs": [],
   "source": [
    "# test on df1 test datset\n",
    "Y_pred_df1 = np.array([trainBayes(x,mu_list_new_data,cov_list_new_data , [p_c0_new_data , p_c1_new_data]) for x in X_test_df1] )"
   ]
  },
  {
   "cell_type": "code",
   "execution_count": 40,
   "metadata": {},
   "outputs": [
    {
     "name": "stdout",
     "output_type": "stream",
     "text": [
      "error: 0.01\n"
     ]
    }
   ],
   "source": [
    "err_df1 = np.sum(Y_pred_df1 != y_test_df1)/len(y_test_df1)\n",
    "print(\"error:\" , err_df1)"
   ]
  },
  {
   "cell_type": "markdown",
   "metadata": {},
   "source": [
    "#### We can see that error is a little beat increase and this is beacuse of pseudo-labels is not perfect labels so a little noise exist in train part. "
   ]
  },
  {
   "cell_type": "code",
   "execution_count": null,
   "metadata": {},
   "outputs": [],
   "source": []
  }
 ],
 "metadata": {
  "kernelspec": {
   "display_name": "Python 3 (ipykernel)",
   "language": "python",
   "name": "python3"
  },
  "language_info": {
   "codemirror_mode": {
    "name": "ipython",
    "version": 3
   },
   "file_extension": ".py",
   "mimetype": "text/x-python",
   "name": "python",
   "nbconvert_exporter": "python",
   "pygments_lexer": "ipython3",
   "version": "3.9.7"
  }
 },
 "nbformat": 4,
 "nbformat_minor": 4
}
